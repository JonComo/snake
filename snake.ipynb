{
 "cells": [
  {
   "cell_type": "code",
   "execution_count": 137,
   "metadata": {
    "collapsed": true
   },
   "outputs": [],
   "source": [
    "import numpy as np\n",
    "from numpy.random import randint\n",
    "from IPython.display import clear_output\n",
    "%matplotlib inline\n",
    "from matplotlib import pyplot as plt"
   ]
  },
  {
   "cell_type": "code",
   "execution_count": 2,
   "metadata": {},
   "outputs": [
    {
     "name": "stderr",
     "output_type": "stream",
     "text": [
      "Using TensorFlow backend.\n"
     ]
    }
   ],
   "source": [
    "import keras\n",
    "from keras.models import Sequential\n",
    "from keras.layers import Dense, Activation, Dropout, Flatten, MaxPooling2D, Conv2D\n",
    "from keras import backend as K"
   ]
  },
  {
   "cell_type": "code",
   "execution_count": 3,
   "metadata": {
    "collapsed": true
   },
   "outputs": [],
   "source": [
    "import pyglet\n",
    "from pyglet import app\n",
    "from pyglet.window import Window, mouse, key\n",
    "from pyglet import gl"
   ]
  },
  {
   "cell_type": "code",
   "execution_count": 168,
   "metadata": {},
   "outputs": [],
   "source": [
    "# env\n",
    "class Env(object):\n",
    "    def __init__(self, r, c, vis_r):\n",
    "        self.vis_r = vis_r #radius of snake vision\n",
    "        self.r = r\n",
    "        self.c = c\n",
    "        \n",
    "        vis2 = self.vis_r*2\n",
    "        \n",
    "        self.state = np.zeros((r, c, 3))\n",
    "        self.state_padded = np.zeros((r+vis2, c+vis2, 3))\n",
    "        self.define_model()\n",
    "        self.reset()\n",
    "        \n",
    "    def reset(self, random_length=True):\n",
    "        self.p = [randint(0, self.r), randint(0, self.c)]\n",
    "        self.f = [randint(0, self.r), randint(0, self.c)]\n",
    "        self.tail = []\n",
    "        if random_length:\n",
    "            self.length = np.random.randint(2, 20)\n",
    "        else:\n",
    "            self.length = 0\n",
    "        self.dir = 0 # direction\n",
    "        self.step_count = 0\n",
    "        self.end = False\n",
    "        self.state[:] = 0\n",
    "        \n",
    "    def define_model(self):\n",
    "        img_rows, img_cols = self.vis_r*2, self.vis_r*2\n",
    "        \n",
    "        input_shape = None\n",
    "        if K.image_data_format() == 'channels_first':\n",
    "            input_shape = (3, img_rows, img_cols)\n",
    "        else:\n",
    "            input_shape = (img_rows, img_cols, 3)\n",
    "        \n",
    "        self.model = Sequential()\n",
    "        self.model.add(Conv2D(16, kernel_size=(3, 3),\n",
    "                         activation='relu',\n",
    "                         input_shape=input_shape))\n",
    "        self.model.add(Conv2D(32, (3, 3), activation='relu'))\n",
    "        self.model.add(MaxPooling2D(pool_size=(2, 2)))\n",
    "        #self.model.add(Dropout(0.20))\n",
    "        self.model.add(Flatten())\n",
    "        self.model.add(Dense(128, activation='relu'))\n",
    "        #self.model.add(Dropout(0.20))\n",
    "        self.model.add(Dense(4, activation='softmax'))\n",
    "        \n",
    "        self.model.compile(loss=keras.losses.categorical_crossentropy,\n",
    "              optimizer=keras.optimizers.Adadelta(lr=1.0),\n",
    "              metrics=['accuracy'])\n",
    "        \n",
    "    def randomize_model(self):\n",
    "        # https://github.com/keras-team/keras/issues/341\n",
    "        session = K.get_session()\n",
    "        for layer in self.model.layers: \n",
    "            for v in layer.__dict__:\n",
    "                v_arg = getattr(layer,v)\n",
    "                if hasattr(v_arg,'initializer'):\n",
    "                    initializer_method = getattr(v_arg, 'initializer')\n",
    "                    initializer_method.run(session=session)\n",
    "    \n",
    "    def is_fail(self, p):\n",
    "        if p[0] < 0 or p[0] > self.r-1 or p[1] < 0 or p[1] > self.c-1:\n",
    "            return True\n",
    "        return self.state[p[0], p[1], 1] == 1 # body\n",
    "    \n",
    "    def is_food(self, p):\n",
    "        return p[0] == self.f[0] and p[1] == self.f[1]\n",
    "        \n",
    "    def step(self, explore=1.0, record=False):\n",
    "        _reward = 1 # if you survive\n",
    "        \n",
    "        self.step_count += 1\n",
    "        if self.step_count > 100: # max steps\n",
    "            self.end = True\n",
    "            return (None, None, 0)\n",
    "        \n",
    "        self.state_padded[self.vis_r:self.vis_r+self.r,\n",
    "                          self.vis_r:self.vis_r+self.c] = self.state\n",
    "        \n",
    "        r, c = self.p[0]+self.vis_r, self.p[1]+self.vis_r # offset\n",
    "        _state = self.state_padded[r-self.vis_r:r+self.vis_r, c-self.vis_r:c+self.vis_r].reshape(1, self.vis_r*2, self.vis_r*2, 3)\n",
    "        \n",
    "        _action = None\n",
    "        if np.random.random() < explore:\n",
    "            _action = np.random.choice([0,1,2,3])\n",
    "        else:\n",
    "            dist = self.model.predict(_state)\n",
    "            _action = np.argmax(dist)\n",
    "            \n",
    "        self.dir = _action\n",
    "\n",
    "        newp = [self.p[0], self.p[1]]\n",
    "        if self.dir == 0: #up\n",
    "            newp[1] += 1\n",
    "        if self.dir == 1: #right\n",
    "            newp[0] += 1\n",
    "        if self.dir == 2: #down\n",
    "            newp[1] -= 1\n",
    "        if self.dir == 3: #left\n",
    "            newp[0] -= 1\n",
    "            \n",
    "        if self.is_food(newp):\n",
    "            _reward = 2\n",
    "            #grow and move food\n",
    "            self.length += 1\n",
    "            \n",
    "            self.f = [randint(0, self.r), randint(0, self.c)]\n",
    "            while self.state[self.f[0], self.f[1] , 1] == 1 or self.state[self.f[0], self.f[1] , 0] == 1:\n",
    "                self.f = [randint(0, self.r), randint(0, self.c)]\n",
    "\n",
    "        elif self.is_fail(newp):\n",
    "            self.end = True\n",
    "            return (None, None, 0)    \n",
    "                \n",
    "        # move to new position\n",
    "        self.p = newp\n",
    "            \n",
    "        self.state[:] = 0\n",
    "\n",
    "        for b in self.tail:\n",
    "            self.state[b[0], b[1], 1] = 1\n",
    "            \n",
    "        self.tail.insert(0, np.copy(self.p))\n",
    "        if len(self.tail) > self.length:\n",
    "            self.tail.pop()\n",
    "            \n",
    "        self.state[self.p[0], self.p[1], 0] = 1\n",
    "        self.state[self.f[0], self.f[1], 2] = 1\n",
    "        \n",
    "        return (_state, _action, _reward) #sar"
   ]
  },
  {
   "cell_type": "code",
   "execution_count": 169,
   "metadata": {},
   "outputs": [],
   "source": [
    "# create environment\n",
    "\n",
    "env = Env(r=40, c=40, vis_r=10)\n",
    "x_train, y_train = [], []"
   ]
  },
  {
   "cell_type": "code",
   "execution_count": 170,
   "metadata": {
    "collapsed": true
   },
   "outputs": [],
   "source": [
    "x_train, y_train = [], []"
   ]
  },
  {
   "cell_type": "code",
   "execution_count": 171,
   "metadata": {},
   "outputs": [
    {
     "name": "stdout",
     "output_type": "stream",
     "text": [
      "0\n",
      "100\n",
      "200\n",
      "300\n",
      "400\n",
      "500\n",
      "600\n",
      "700\n",
      "800\n",
      "900\n"
     ]
    }
   ],
   "source": [
    "# gather some training data, then train it\n",
    "\n",
    "for i in range(1000):\n",
    "    if i % 100 == 0:\n",
    "        print(i)\n",
    "        \n",
    "    session = []\n",
    "    while not env.end:\n",
    "        sar = env.step(explore=1.0, record=True)\n",
    "        session.append(sar)\n",
    "        \n",
    "        if sar[2] == 1: # 1 survived, 2 food\n",
    "            for s in session:\n",
    "                x_train.append(s[0])\n",
    "                action = np.zeros((1, 4))\n",
    "                action[0, s[1]] = 1\n",
    "                y_train.append(action)\n",
    "            \n",
    "    env.reset(random_length=True)"
   ]
  },
  {
   "cell_type": "code",
   "execution_count": 172,
   "metadata": {},
   "outputs": [
    {
     "name": "stdout",
     "output_type": "stream",
     "text": [
      "Epoch 1/1\n",
      "14292/14292 [==============================] - 8s - loss: 1.3746 - acc: 0.2947     \n"
     ]
    },
    {
     "data": {
      "text/plain": [
       "<keras.callbacks.History at 0x1301bbda0>"
      ]
     },
     "execution_count": 172,
     "metadata": {},
     "output_type": "execute_result"
    }
   ],
   "source": [
    "_x_train = np.vstack(x_train)\n",
    "_y_train = np.vstack(y_train)\n",
    "env.model.fit(_x_train, _y_train, epochs=1, verbose=1)"
   ]
  },
  {
   "cell_type": "code",
   "execution_count": 173,
   "metadata": {
    "scrolled": true
   },
   "outputs": [
    {
     "data": {
      "image/png": "[encoded data removed]",
      "text/plain": [
       "<matplotlib.figure.Figure at 0x12fa13048>"
      ]
     },
     "metadata": {},
     "output_type": "display_data"
    }
   ],
   "source": [
    "# run after training\n",
    "\n",
    "rewards = []\n",
    "for i in range(50):\n",
    "    total_r = 0\n",
    "    while not env.end:\n",
    "        sar = env.step(explore=0, record=False)\n",
    "        if sar[2] > 0:\n",
    "            total_r += 1\n",
    "    rewards.append(total_r)\n",
    "    env.reset()\n",
    "    \n",
    "fig = plt.hist(rewards)"
   ]
  },
  {
   "cell_type": "code",
   "execution_count": 174,
   "metadata": {},
   "outputs": [
    {
     "data": {
      "image/png": "[encoded data removed]",
      "text/plain": [
       "<matplotlib.figure.Figure at 0x1373b88d0>"
      ]
     },
     "metadata": {},
     "output_type": "display_data"
    }
   ],
   "source": [
    "# visualize agent\n",
    "\n",
    "for i in range(5):\n",
    "    while not env.end:\n",
    "        env.step(explore=0)\n",
    "        clear_output(wait=True)\n",
    "        plt.imshow(env.state, cmap=plt.cm.rainbow, vmin=-1, vmax=1)\n",
    "        plt.show()\n",
    "    env.reset()"
   ]
  },
  {
   "cell_type": "code",
   "execution_count": 177,
   "metadata": {},
   "outputs": [],
   "source": [
    "# visualize pyglet\n",
    "bw, bh = 10, 10\n",
    "win_width, win_height = bw*env.c, bh*env.r\n",
    "\n",
    "# create window and run display it\n",
    "win = Window(width=win_width, height=win_height)\n",
    "\n",
    "def draw_rect(x, y, w, h, color):\n",
    "    pyglet.graphics.draw(6, gl.GL_TRIANGLES,\n",
    "                    ('v2f', [x, y, \n",
    "                             x+w, y,\n",
    "                             x+w, y+h, \n",
    "                             x, y, \n",
    "                             x, y+h, \n",
    "                             x+w, y+h]),\n",
    "                    ('c4f', color * 6))\n",
    "    \n",
    "\n",
    "env.reset(random_length=False)    \n",
    "running = True\n",
    "while not win.has_exit:\n",
    "    win.dispatch_events()\n",
    "    \n",
    "    while not env.end:\n",
    "        env.step(explore=0, record=False)\n",
    "        \n",
    "        #render\n",
    "        win.clear()\n",
    "        for index, x in np.ndenumerate(env.state):\n",
    "            if x != 0:\n",
    "                # draw a rect\n",
    "                c = [1,1,1,1]\n",
    "                if index[2] == 1:\n",
    "                    c = [.5,.5,.5,1]\n",
    "                elif index[2] == 2:\n",
    "                    c = [0,1,0,1]\n",
    "                    \n",
    "                draw_rect(index[0]*bw, index[1]*bh, bw, bh, c)\n",
    "        \n",
    "        win.flip()\n",
    "        \n",
    "    env.reset(random_length=True)\n",
    "    \n",
    "win.close()"
   ]
  },
  {
   "cell_type": "code",
   "execution_count": 26,
   "metadata": {},
   "outputs": [
    {
     "data": {
      "text/plain": [
       "<matplotlib.image.AxesImage at 0x12b993470>"
      ]
     },
     "execution_count": 26,
     "metadata": {},
     "output_type": "execute_result"
    },
    {
     "data": {
      "image/png": "[encoded data removed]",
      "text/plain": [
       "<matplotlib.figure.Figure at 0x12b6f0ac8>"
      ]
     },
     "metadata": {},
     "output_type": "display_data"
    }
   ],
   "source": [
    "plt.imshow(np.pad(x_train[120].reshape(env.w, env.h, 3))"
   ]
  },
  {
   "cell_type": "code",
   "execution_count": null,
   "metadata": {
    "collapsed": true
   },
   "outputs": [],
   "source": []
  }
 ],
 "metadata": {
  "kernelspec": {
   "display_name": "Python 3",
   "language": "python",
   "name": "python3"
  },
  "language_info": {
   "codemirror_mode": {
    "name": "ipython",
    "version": 3
   },
   "file_extension": ".py",
   "mimetype": "text/x-python",
   "name": "python",
   "nbconvert_exporter": "python",
   "pygments_lexer": "ipython3",
   "version": "3.6.1"
  }
 },
 "nbformat": 4,
 "nbformat_minor": 2
}
