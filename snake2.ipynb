{
 "cells": [
  {
   "cell_type": "code",
   "execution_count": 1,
   "metadata": {
    "collapsed": true
   },
   "outputs": [],
   "source": [
    "import numpy as np\n",
    "from numpy.random import randint"
   ]
  },
  {
   "cell_type": "code",
   "execution_count": 2,
   "metadata": {
    "collapsed": false
   },
   "outputs": [
    {
     "name": "stderr",
     "output_type": "stream",
     "text": [
      "/Users/joncomo/miniconda2/envs/phys/lib/python3.4/site-packages/matplotlib/font_manager.py:273: UserWarning: Matplotlib is building the font cache using fc-list. This may take a moment.\n",
      "  warnings.warn('Matplotlib is building the font cache using fc-list. This may take a moment.')\n",
      "/Users/joncomo/miniconda2/envs/phys/lib/python3.4/site-packages/matplotlib/font_manager.py:273: UserWarning: Matplotlib is building the font cache using fc-list. This may take a moment.\n",
      "  warnings.warn('Matplotlib is building the font cache using fc-list. This may take a moment.')\n"
     ]
    }
   ],
   "source": [
    "%matplotlib inline\n",
    "from matplotlib import pyplot as plt\n",
    "from IPython.display import clear_output"
   ]
  },
  {
   "cell_type": "code",
   "execution_count": 3,
   "metadata": {
    "collapsed": false
   },
   "outputs": [
    {
     "name": "stderr",
     "output_type": "stream",
     "text": [
      "Using TensorFlow backend.\n"
     ]
    }
   ],
   "source": [
    "import keras\n",
    "from keras.models import Sequential\n",
    "from keras.layers import Dense, Activation, Dropout, Flatten, MaxPooling2D, Conv2D\n",
    "from keras import backend as K"
   ]
  },
  {
   "cell_type": "code",
   "execution_count": 4,
   "metadata": {
    "collapsed": true
   },
   "outputs": [],
   "source": [
    "import pyglet\n",
    "from pyglet import app\n",
    "from pyglet.window import Window, mouse, key\n",
    "from pyglet import gl\n",
    "\n",
    "pyglet.options['audio'] = ('openal', 'pulse', 'directsound', 'silent')\n",
    "from pyglet.media import procedural\n",
    "sine_hi = procedural.WhiteNoise(.05)\n",
    "sine_lo = procedural.Sine(.2, frequency=300)"
   ]
  },
  {
   "cell_type": "code",
   "execution_count": 5,
   "metadata": {
    "collapsed": true
   },
   "outputs": [],
   "source": [
    "class Env(object):\n",
    "    def __init__(self, r, c):\n",
    "        self.r = r\n",
    "        self.c = c\n",
    "        self.screen = np.zeros((r, c))\n",
    "        self.state = {}\n",
    "        self.reset()\n",
    "        \n",
    "    def reset(self, rand_length=False):\n",
    "        self.prev_states = []\n",
    "        self.screen[:] = 0\n",
    "        l = 3\n",
    "        if rand_length:\n",
    "            l = randint(3, int(self.r*self.c*1/4))\n",
    "        self.state = {'p': (randint(0, self.r), randint(0, self.c)),\n",
    "                      'f': (randint(0, self.r), randint(0, self.c)),\n",
    "                      't': [],\n",
    "                      'l': l}\n",
    "        \n",
    "    def step(self, state, action):\n",
    "        if action is None:\n",
    "            return (0, state, True)\n",
    "        \n",
    "        p = state['p'] # position\n",
    "        f = state['f'] # food\n",
    "        t = state['t'] # tail\n",
    "        l = state['l'] # length\n",
    "        \n",
    "        reward = 0\n",
    "        \n",
    "        # copy tail\n",
    "        t = [coord for coord in t]\n",
    "        t.insert(0, p)\n",
    "        if len(t) > l:\n",
    "            t.pop()\n",
    "            \n",
    "        newp = self.move(p, action)\n",
    "        newf = [f[0], f[1]]\n",
    "        \n",
    "        if newp == f:\n",
    "            # got food\n",
    "            reward = 1\n",
    "            l += 1\n",
    "            newf = [randint(0, self.r), randint(0, self.c)]\n",
    "        \n",
    "        end = False   \n",
    "        if self.out_of_bounds(newp) or newp in t:\n",
    "            reward = 0\n",
    "            end = True\n",
    "            \n",
    "        new_state = {'p': newp,\n",
    "                     'f': newf,\n",
    "                     't': t,\n",
    "                     'l': l}\n",
    "        \n",
    "        return reward, new_state, end\n",
    "    \n",
    "    def move(self, p, action):\n",
    "        newp = None\n",
    "        if action == 0: #up\n",
    "            newp = [p[0]-1, p[1]]\n",
    "        elif action == 1: #down\n",
    "            newp = [p[0]+1, p[1]]\n",
    "        elif action == 2: #left\n",
    "            newp = [p[0], p[1]-1]\n",
    "        elif action == 3: #right\n",
    "            newp = [p[0], p[1]+1]\n",
    "        return newp\n",
    "    \n",
    "    def out_of_bounds(self, p):\n",
    "        return p[0] < 0 or p[0] > self.r-1 or p[1] < 0 or p[1] > self.c-1\n",
    "    \n",
    "    def random_action(self, state):\n",
    "        p = state['p']\n",
    "        t = state['t']\n",
    "        possible = []\n",
    "        for action in range(4):\n",
    "            newp = self.move(p, action)\n",
    "            if not self.out_of_bounds(newp) and newp not in t:\n",
    "                possible.append(action)\n",
    "        if len(possible) == 0:\n",
    "            return None\n",
    "        \n",
    "        return np.random.choice(possible)\n",
    "    \n",
    "    def stack(self, states):\n",
    "        stack = np.zeros((1, env.r, env.c, len(states)))\n",
    "        \n",
    "        for i in range(len(states)):\n",
    "            s = states[i]\n",
    "            stack[:,:,:,i] = env.render(s)\n",
    "            \n",
    "        return stack\n",
    "    \n",
    "    def step_model(self, model):\n",
    "        \n",
    "        reward, state, end = None, None, None\n",
    "        action = None\n",
    "        \n",
    "        while(len(self.prev_states) < TIME_STEPS-1):\n",
    "            reward, state, end = self.step(self.state, self.random_action(self.state))\n",
    "            self.state = state\n",
    "            self.prev_states.append(state)\n",
    "        \n",
    "        max_v = -1000000000\n",
    "        runner_up = None\n",
    "        for pot_action in [0, 1, 2, 3]:\n",
    "            reward, pot_state, pot_end = self.step(self.state, pot_action)\n",
    "            if pot_end:\n",
    "                continue\n",
    "                \n",
    "            stack = self.stack(self.prev_states + [pot_state])\n",
    "            \n",
    "            test_v = model.predict(stack)[0, 0]\n",
    "            test_v += reward\n",
    "            if test_v > max_v:\n",
    "                max_v = test_v\n",
    "                action = pot_action\n",
    "\n",
    "        if action is None: # there were no good future states, reset\n",
    "            self.reset()\n",
    "            reward, state, end = -1, env.state, True\n",
    "        else:\n",
    "            reward, state, end = self.step(self.state, action)\n",
    "            \n",
    "        self.state = state\n",
    "        self.prev_states.append(state)\n",
    "        self.prev_states = self.prev_states[1:]\n",
    "        \n",
    "        return reward, state, end\n",
    "    \n",
    "    def render(self, state, alpha_mode=False):\n",
    "        p = state['p']\n",
    "        f = state['f']\n",
    "        t = state['t']\n",
    "        \n",
    "        self.screen[:] = 0\n",
    "        self.screen[p[0], p[1]] = 1\n",
    "        self.screen[f[0], f[1]] = 1\n",
    "        \n",
    "        # render tail\n",
    "        if alpha_mode:\n",
    "            alpha = 1\n",
    "            diff = 0\n",
    "            if len(t) > 0:\n",
    "                diff = 1.0/len(t)\n",
    "            for coord in t:\n",
    "                self.screen[coord[0], coord[1]] = alpha\n",
    "                alpha -= diff\n",
    "        else:\n",
    "            for coord in t:\n",
    "                self.screen[coord[0], coord[1]] = 1\n",
    "        \n",
    "        return self.screen"
   ]
  },
  {
   "cell_type": "code",
   "execution_count": 6,
   "metadata": {
    "collapsed": true
   },
   "outputs": [],
   "source": [
    "env = Env(10, 10)"
   ]
  },
  {
   "cell_type": "code",
   "execution_count": 7,
   "metadata": {
    "collapsed": true
   },
   "outputs": [],
   "source": [
    "history = []"
   ]
  },
  {
   "cell_type": "code",
   "execution_count": 8,
   "metadata": {
    "collapsed": false
   },
   "outputs": [
    {
     "name": "stdout",
     "output_type": "stream",
     "text": [
      "1186\n",
      "2361\n",
      "3537\n",
      "4729\n",
      "5933\n",
      "7145\n",
      "8340\n",
      "9529\n"
     ]
    }
   ],
   "source": [
    "# gather some session history\n",
    "\n",
    "i = 0\n",
    "while len(history) < 10000:\n",
    "    i += 1\n",
    "    if (i+1) % 5000 == 0:\n",
    "        print(len(history))\n",
    "        \n",
    "    env.reset(rand_length=True)\n",
    "    end = False\n",
    "    steps = 0\n",
    "    session = []\n",
    "    non_zero_reward = False\n",
    "    \n",
    "    while not end:\n",
    "        state = env.state\n",
    "        action = env.random_action(state)\n",
    "        reward, new_state, end = env.step(env.state, action)\n",
    "        \n",
    "        # decay the reward back\n",
    "        if reward != 0:\n",
    "            non_zero_reward = True\n",
    "            decay = reward\n",
    "            for sar in reversed(session):\n",
    "                sar[2] += decay\n",
    "                decay *= 0.6\n",
    "        \n",
    "        sar = [state, action, reward]\n",
    "        session.append(sar)\n",
    "        \n",
    "        steps += 1\n",
    "        \n",
    "        if end or steps > 30:\n",
    "            break\n",
    "        \n",
    "        env.state = new_state\n",
    "    \n",
    "    if non_zero_reward:\n",
    "        history.append(session)"
   ]
  },
  {
   "cell_type": "code",
   "execution_count": 106,
   "metadata": {
    "collapsed": false
   },
   "outputs": [
    {
     "data": {
      "image/png": "[encoded data removed]",
      "text/plain": [
       "<matplotlib.figure.Figure at 0x13f471cc0>"
      ]
     },
     "metadata": {},
     "output_type": "display_data"
    },
    {
     "name": "stdout",
     "output_type": "stream",
     "text": [
      "reward: 0\n"
     ]
    }
   ],
   "source": [
    "def play_session(session):\n",
    "    for sar in session:\n",
    "        screen = env.render(sar[0], alpha_mode=False)\n",
    "        \n",
    "        clear_output(wait=True)\n",
    "        fig = plt.imshow(screen, interpolation='nearest', cmap=plt.cm.gray)\n",
    "        plt.show()\n",
    "        print('reward: {}'.format(sar[2]))\n",
    "        \n",
    "# most food session\n",
    "\n",
    "best_s = None\n",
    "max_r = 0\n",
    "\n",
    "for session in history:\n",
    "    r = 0\n",
    "    for sar in session:\n",
    "        r += sar[2]\n",
    "        if r > max_r:\n",
    "            max_r = r\n",
    "            best_s = session\n",
    "            \n",
    "play_session(best_s)"
   ]
  },
  {
   "cell_type": "code",
   "execution_count": 9,
   "metadata": {
    "collapsed": true
   },
   "outputs": [],
   "source": [
    "# time steps per session\n",
    "TIME_STEPS = 2\n",
    "\n",
    "input_shape = None\n",
    "if K.image_data_format() == 'channels_first':\n",
    "    input_shape = (TIME_STEPS, env.r, env.c)\n",
    "else:\n",
    "    input_shape = (env.r, env.c, TIME_STEPS)\n",
    "\n",
    "model = Sequential()\n",
    "model.add(Conv2D(32, kernel_size=(3, 3),\n",
    "                 activation='relu',\n",
    "                 input_shape=input_shape))\n",
    "model.add(Conv2D(64, (3, 3), activation='relu'))\n",
    "#model.add(MaxPooling2D(pool_size=(2, 2)))\n",
    "#model.add(Dropout(0.20))\n",
    "model.add(Flatten())\n",
    "model.add(Dense(256, activation='relu'))\n",
    "#model.add(Dropout(0.20))\n",
    "\n",
    "model.add(Dense(1, activation='sigmoid'))\n",
    "\n",
    "model.compile(loss=keras.losses.mse,\n",
    "      optimizer=keras.optimizers.Adadelta(lr=1),\n",
    "      metrics=['accuracy'])"
   ]
  },
  {
   "cell_type": "code",
   "execution_count": 10,
   "metadata": {
    "collapsed": false
   },
   "outputs": [
    {
     "name": "stdout",
     "output_type": "stream",
     "text": [
      "9998\n",
      "19998\n",
      "29998\n",
      "39998\n",
      "49998\n",
      "59998\n",
      "69998\n",
      "79998\n",
      "89998\n",
      "99998\n"
     ]
    }
   ],
   "source": [
    "# train the model, predict reward given state\n",
    "\n",
    "x_train = []\n",
    "y_train = []\n",
    "\n",
    "i = 0\n",
    "while len(x_train) < 100000:\n",
    "    i += 1\n",
    "    if (i+1) % 10000 == 0:\n",
    "        print(len(x_train))\n",
    "        \n",
    "    random_session = history[randint(len(history))]\n",
    "    ri = randint(0, len(random_session)-TIME_STEPS)\n",
    "    \n",
    "    sars = [random_session[ri + t] for t in range(TIME_STEPS)]\n",
    "    states = [sar[0] for sar in sars]\n",
    "    state = env.stack(states)\n",
    "    reward = sars[-1][2] # reward for state\n",
    "    \n",
    "    \n",
    "    x_train.append(state)\n",
    "    y_train.append(reward)\n",
    "    \n",
    "    #r = np.random.random_sample()\n",
    "    \n",
    "    #if r < .33:\n",
    "    #    x_train.append(state)\n",
    "    #elif r >= .33 and r < .66:\n",
    "    #    x_train.append(np.fliplr(state))\n",
    "    #else:\n",
    "    #    x_train.append(np.flipud(state))"
   ]
  },
  {
   "cell_type": "code",
   "execution_count": 11,
   "metadata": {
    "collapsed": false
   },
   "outputs": [
    {
     "name": "stdout",
     "output_type": "stream",
     "text": [
      "Epoch 1/1\n",
      "100000/100000 [==============================] - 18s 180us/step - loss: 0.0887 - acc: 0.4347\n"
     ]
    },
    {
     "data": {
      "image/png": "[encoded data removed]",
      "text/plain": [
       "<matplotlib.figure.Figure at 0x11e8c1ac8>"
      ]
     },
     "metadata": {},
     "output_type": "display_data"
    }
   ],
   "source": [
    "model.fit(np.vstack(x_train), np.vstack(y_train), batch_size=64, epochs=1)\n",
    "\n",
    "fig = plt.plot(model.predict(np.vstack(x_train)[:100]), c='r')\n",
    "fig = plt.plot(np.vstack(y_train)[:100], c='b')"
   ]
  },
  {
   "cell_type": "code",
   "execution_count": 12,
   "metadata": {
    "collapsed": false
   },
   "outputs": [
    {
     "data": {
      "image/png": "[encoded data removed]",
      "text/plain": [
       "<matplotlib.figure.Figure at 0x133c525c0>"
      ]
     },
     "metadata": {},
     "output_type": "display_data"
    }
   ],
   "source": [
    "# get an idea of distribution of rewards\n",
    "\n",
    "rs = []\n",
    "\n",
    "for i in range(30):\n",
    "    env.reset()\n",
    "    end = False\n",
    "    total_r = 0\n",
    "    for j in range(50): # j steps\n",
    "        r, s, end = env.step_model(model)\n",
    "        total_r += r\n",
    "        if end:\n",
    "            break\n",
    "        \n",
    "    rs.append(total_r)\n",
    "        \n",
    "fig = plt.hist(rs)"
   ]
  },
  {
   "cell_type": "code",
   "execution_count": 13,
   "metadata": {
    "collapsed": false
   },
   "outputs": [
    {
     "data": {
      "image/png": "[encoded data removed]",
      "text/plain": [
       "<matplotlib.figure.Figure at 0x1532e5a90>"
      ]
     },
     "metadata": {},
     "output_type": "display_data"
    }
   ],
   "source": [
    "# get an idea of model predictions for random states\n",
    "\n",
    "vs = []\n",
    "for i in range(1000):\n",
    "    random_session = history[randint(len(history))]\n",
    "    ri = randint(0, len(random_session)-TIME_STEPS-1)\n",
    "    \n",
    "    sars = [random_session[ri + t] for t in range(TIME_STEPS)]\n",
    "    states = [sar[0] for sar in sars]\n",
    "    state = env.stack(states)\n",
    "\n",
    "    v = model.predict(state)[0, 0]\n",
    "    vs.append(v)\n",
    "        \n",
    "fig = plt.hist(vs)"
   ]
  },
  {
   "cell_type": "code",
   "execution_count": null,
   "metadata": {
    "collapsed": true
   },
   "outputs": [],
   "source": []
  },
  {
   "cell_type": "code",
   "execution_count": 15,
   "metadata": {
    "collapsed": false
   },
   "outputs": [
    {
     "name": "stdout",
     "output_type": "stream",
     "text": [
      "0.145619\n"
     ]
    }
   ],
   "source": [
    "# visualize pyglet\n",
    "\n",
    "bw, bh = 10, 10\n",
    "win_width, win_height = bw*env.c, bh*env.r\n",
    "\n",
    "# create window and run display it\n",
    "win = Window(width=win_width, height=win_height)\n",
    "\n",
    "def on_mouse_press(x, y, button, modifiers):\n",
    "    env.reset()\n",
    "    \n",
    "win.push_handlers(on_mouse_press)\n",
    "\n",
    "def draw_rect(x, y, w, h, color):\n",
    "    pyglet.graphics.draw(6, gl.GL_TRIANGLES,\n",
    "                    ('v2f', [x, y, \n",
    "                             x+w, y,\n",
    "                             x+w, y+h, \n",
    "                             x, y, \n",
    "                             x, y+h, \n",
    "                             x+w, y+h]),\n",
    "                    ('c4f', color * 6))\n",
    "\n",
    "if 'loop' in globals():\n",
    "    pyglet.clock.unschedule(loop)\n",
    "\n",
    "prev_s = None\n",
    "vs = []\n",
    "def loop(e):\n",
    "    global env, model, prev_s, vs\n",
    "    \n",
    "    r, s, e = env.step_model(model)\n",
    "    \n",
    "    if r == 1:\n",
    "        sine_hi.seek(0)\n",
    "        sine_hi.play()\n",
    "    elif e:\n",
    "        sine_lo.seek(0)\n",
    "        sine_lo.play()\n",
    "        \n",
    "    clear_output(wait=True)\n",
    "    if prev_s is not None:\n",
    "        v = model.predict(env.stack([prev_s, s]))[0, 0]\n",
    "        #vs.append(v)\n",
    "        #fig = plt.plot(vs)\n",
    "        #plt.show()\n",
    "        print(v)\n",
    "    prev_s = s\n",
    "\n",
    "def on_draw():\n",
    "    global env\n",
    "    \n",
    "    win.clear()\n",
    "    \n",
    "    screen = env.render(env.state)\n",
    "    for index, x in np.ndenumerate(screen):\n",
    "        if x != 0:\n",
    "            # draw a rect\n",
    "            c = [1,1,1,1]\n",
    "\n",
    "            draw_rect(index[0]*bw, index[1]*bh, bw, bh, c)\n",
    "\n",
    "env.reset()            \n",
    "win.on_draw = on_draw\n",
    "pyglet.clock.schedule(loop)\n",
    "pyglet.app.run()\n",
    "win.close()"
   ]
  },
  {
   "cell_type": "code",
   "execution_count": null,
   "metadata": {
    "collapsed": true,
    "scrolled": true
   },
   "outputs": [],
   "source": [
    "# visualize matplotlib\n",
    "\n",
    "env.reset()\n",
    "for i in range(100):\n",
    "    env.step_model(model)\n",
    "    screen = env.render(env.state)\n",
    "    \n",
    "    clear_output(wait=True)\n",
    "    fig = plt.imshow(screen, interpolation='nearest', cmap=plt.cm.gray)\n",
    "    plt.show()"
   ]
  },
  {
   "cell_type": "code",
   "execution_count": null,
   "metadata": {
    "collapsed": true
   },
   "outputs": [],
   "source": []
  }
 ],
 "metadata": {
  "kernelspec": {
   "display_name": "Python 3",
   "language": "python",
   "name": "python3"
  },
  "language_info": {
   "codemirror_mode": {
    "name": "ipython",
    "version": 3
   },
   "file_extension": ".py",
   "mimetype": "text/x-python",
   "name": "python",
   "nbconvert_exporter": "python",
   "pygments_lexer": "ipython3",
   "version": "3.4.5"
  },
  "widgets": {
   "state": {},
   "version": "1.1.2"
  }
 },
 "nbformat": 4,
 "nbformat_minor": 1
}
