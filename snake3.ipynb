{
 "cells": [
  {
   "cell_type": "code",
   "execution_count": 3,
   "metadata": {
    "collapsed": true
   },
   "outputs": [],
   "source": [
    "import numpy as np\n",
    "from numpy.random import randint"
   ]
  },
  {
   "cell_type": "code",
   "execution_count": 4,
   "metadata": {
    "collapsed": false
   },
   "outputs": [],
   "source": [
    "%matplotlib inline\n",
    "from matplotlib import pyplot as plt\n",
    "from IPython.display import clear_output"
   ]
  },
  {
   "cell_type": "code",
   "execution_count": 5,
   "metadata": {
    "collapsed": false
   },
   "outputs": [
    {
     "name": "stderr",
     "output_type": "stream",
     "text": [
      "Using TensorFlow backend.\n"
     ]
    }
   ],
   "source": [
    "import keras\n",
    "from keras.models import Sequential\n",
    "from keras.layers import Dense, Activation, Dropout, Flatten, MaxPooling2D, Conv2D\n",
    "from keras import backend as K"
   ]
  },
  {
   "cell_type": "code",
   "execution_count": 6,
   "metadata": {
    "collapsed": true
   },
   "outputs": [],
   "source": [
    "import pyglet\n",
    "from pyglet import app\n",
    "from pyglet.window import Window, mouse, key\n",
    "from pyglet import gl\n",
    "\n",
    "pyglet.options['audio'] = ('openal', 'pulse', 'directsound', 'silent')\n",
    "from pyglet.media import procedural\n",
    "sine_hi = procedural.WhiteNoise(.05)\n",
    "sine_lo = procedural.Sine(.2, frequency=300)"
   ]
  },
  {
   "cell_type": "code",
   "execution_count": 23,
   "metadata": {
    "collapsed": true
   },
   "outputs": [],
   "source": [
    "class Env(object):\n",
    "    def __init__(self, r, c):\n",
    "        self.r = r\n",
    "        self.c = c\n",
    "        self.screen = np.zeros((r, c))\n",
    "        self.state = {}\n",
    "        self.reset()\n",
    "        \n",
    "    def reset(self, rand_length=False):\n",
    "        self.prev_states = []\n",
    "        self.screen[:] = 0\n",
    "        l = 3\n",
    "        if rand_length:\n",
    "            l = randint(3, int(self.r*self.c*1/4))\n",
    "        self.state = {'p': (randint(0, self.r), randint(0, self.c)),\n",
    "                      'f': (randint(0, self.r), randint(0, self.c)),\n",
    "                      't': [],\n",
    "                      'l': l}\n",
    "        \n",
    "    def step(self, state, action):\n",
    "        if action is None:\n",
    "            return (0, state, True)\n",
    "        \n",
    "        p = state['p'] # position\n",
    "        f = state['f'] # food\n",
    "        t = state['t'] # tail\n",
    "        l = state['l'] # length\n",
    "        \n",
    "        reward = 0\n",
    "        \n",
    "        # copy tail\n",
    "        t = [coord for coord in t]\n",
    "        t.insert(0, p)\n",
    "        if len(t) > l:\n",
    "            t.pop()\n",
    "            \n",
    "        newp = self.move(p, action)\n",
    "        newf = [f[0], f[1]]\n",
    "        \n",
    "        if newp == f:\n",
    "            # got food\n",
    "            reward = 1\n",
    "            l += 1\n",
    "            newf = [randint(0, self.r), randint(0, self.c)]\n",
    "        \n",
    "        end = False   \n",
    "        if self.out_of_bounds(newp) or newp in t:\n",
    "            reward = 0\n",
    "            end = True\n",
    "            \n",
    "        new_state = {'p': newp,\n",
    "                     'f': newf,\n",
    "                     't': t,\n",
    "                     'l': l}\n",
    "        \n",
    "        return reward, new_state, end\n",
    "    \n",
    "    def move(self, p, action):\n",
    "        newp = None\n",
    "        if action == 0: #up\n",
    "            newp = [p[0]-1, p[1]]\n",
    "        elif action == 1: #down\n",
    "            newp = [p[0]+1, p[1]]\n",
    "        elif action == 2: #left\n",
    "            newp = [p[0], p[1]-1]\n",
    "        elif action == 3: #right\n",
    "            newp = [p[0], p[1]+1]\n",
    "        return newp\n",
    "    \n",
    "    def out_of_bounds(self, p):\n",
    "        return p[0] < 0 or p[0] > self.r-1 or p[1] < 0 or p[1] > self.c-1\n",
    "    \n",
    "    def random_action(self, state):\n",
    "        p = state['p']\n",
    "        t = state['t']\n",
    "        possible = []\n",
    "        for action in range(4):\n",
    "            newp = self.move(p, action)\n",
    "            if not self.out_of_bounds(newp) and newp not in t:\n",
    "                possible.append(action)\n",
    "        if len(possible) == 0:\n",
    "            return None\n",
    "        \n",
    "        return np.random.choice(possible)\n",
    "    \n",
    "    def stack(self, states):\n",
    "        stack = np.zeros((1, env.r, env.c, len(states)))\n",
    "        \n",
    "        for i in range(len(states)):\n",
    "            s = states[i]\n",
    "            stack[:,:,:,i] = env.render(s)\n",
    "            \n",
    "        return stack\n",
    "    \n",
    "    def step_model(self, model):\n",
    "        \n",
    "        reward, state, end = None, None, None\n",
    "        action = None\n",
    "        \n",
    "        while(len(self.prev_states) < TIME_STEPS):\n",
    "            reward, state, end = self.step(self.state, self.random_action(self.state))\n",
    "            self.prev_states.append(state)\n",
    "            self.state = state\n",
    "        \n",
    "        stack = self.stack(self.prev_states)\n",
    "        q = model.predict(stack)[0]\n",
    "        print(q)\n",
    "        \n",
    "        action = np.argmax(q)\n",
    "\n",
    "        reward, state, end = self.step(self.state, action)\n",
    "            \n",
    "        self.state = state\n",
    "        self.prev_states.append(state)\n",
    "        self.prev_states = self.prev_states[1:]\n",
    "        \n",
    "        if end:\n",
    "            self.reset()\n",
    "        \n",
    "        return reward, state, end\n",
    "    \n",
    "    def render(self, state, alpha_mode=False):\n",
    "        p = state['p']\n",
    "        f = state['f']\n",
    "        t = state['t']\n",
    "        \n",
    "        self.screen[:] = 0\n",
    "        self.screen[p[0], p[1]] = 1\n",
    "        self.screen[f[0], f[1]] = 1\n",
    "        \n",
    "        # render tail\n",
    "        if alpha_mode:\n",
    "            alpha = 1\n",
    "            diff = 0\n",
    "            if len(t) > 0:\n",
    "                diff = 1.0/len(t)\n",
    "            for coord in t:\n",
    "                self.screen[coord[0], coord[1]] = alpha\n",
    "                alpha -= diff\n",
    "        else:\n",
    "            for coord in t:\n",
    "                self.screen[coord[0], coord[1]] = 1\n",
    "        \n",
    "        return self.screen"
   ]
  },
  {
   "cell_type": "code",
   "execution_count": 24,
   "metadata": {
    "collapsed": false
   },
   "outputs": [],
   "source": [
    "env = Env(10, 10)"
   ]
  },
  {
   "cell_type": "code",
   "execution_count": 9,
   "metadata": {
    "collapsed": true
   },
   "outputs": [],
   "source": [
    "history = []"
   ]
  },
  {
   "cell_type": "code",
   "execution_count": 10,
   "metadata": {
    "collapsed": false
   },
   "outputs": [
    {
     "name": "stdout",
     "output_type": "stream",
     "text": [
      "1200\n",
      "2402\n",
      "3663\n",
      "4827\n",
      "5979\n",
      "7171\n",
      "8412\n",
      "9586\n"
     ]
    }
   ],
   "source": [
    "# gather some session history\n",
    "\n",
    "i = 0\n",
    "while len(history) < 10000:\n",
    "    i += 1\n",
    "    if (i+1) % 5000 == 0:\n",
    "        print(len(history))\n",
    "        \n",
    "    env.reset(rand_length=True)\n",
    "    end = False\n",
    "    steps = 0\n",
    "    session = []\n",
    "    non_zero_reward = False\n",
    "    \n",
    "    while not end:\n",
    "        state = env.state\n",
    "        action = env.random_action(state)\n",
    "        reward, new_state, end = env.step(env.state, action)\n",
    "        \n",
    "        # decay the reward back\n",
    "        if reward != 0:\n",
    "            non_zero_reward = True\n",
    "            decay = reward\n",
    "            for sar in reversed(session):\n",
    "                sar[2] += decay\n",
    "                decay *= 0.6\n",
    "        \n",
    "        sar = [state, action, reward]\n",
    "        session.append(sar)\n",
    "        \n",
    "        steps += 1\n",
    "        \n",
    "        if end or steps > 30:\n",
    "            break\n",
    "        \n",
    "        env.state = new_state\n",
    "    \n",
    "    if non_zero_reward:\n",
    "        history.append(session)"
   ]
  },
  {
   "cell_type": "code",
   "execution_count": 11,
   "metadata": {
    "collapsed": false
   },
   "outputs": [
    {
     "ename": "KeyboardInterrupt",
     "evalue": "",
     "output_type": "error",
     "traceback": [
      "\u001b[0;31m---------------------------------------------------------------------------\u001b[0m",
      "\u001b[0;31mKeyboardInterrupt\u001b[0m                         Traceback (most recent call last)",
      "\u001b[0;32m<ipython-input-11-ff168f8c3f81>\u001b[0m in \u001b[0;36m<module>\u001b[0;34m()\u001b[0m\n\u001b[1;32m     21\u001b[0m             \u001b[0mbest_s\u001b[0m \u001b[0;34m=\u001b[0m \u001b[0msession\u001b[0m\u001b[0;34m\u001b[0m\u001b[0m\n\u001b[1;32m     22\u001b[0m \u001b[0;34m\u001b[0m\u001b[0m\n\u001b[0;32m---> 23\u001b[0;31m \u001b[0mplay_session\u001b[0m\u001b[0;34m(\u001b[0m\u001b[0mbest_s\u001b[0m\u001b[0;34m)\u001b[0m\u001b[0;34m\u001b[0m\u001b[0m\n\u001b[0m",
      "\u001b[0;32m<ipython-input-11-ff168f8c3f81>\u001b[0m in \u001b[0;36mplay_session\u001b[0;34m(session)\u001b[0m\n\u001b[1;32m      5\u001b[0m         \u001b[0mclear_output\u001b[0m\u001b[0;34m(\u001b[0m\u001b[0mwait\u001b[0m\u001b[0;34m=\u001b[0m\u001b[0;32mTrue\u001b[0m\u001b[0;34m)\u001b[0m\u001b[0;34m\u001b[0m\u001b[0m\n\u001b[1;32m      6\u001b[0m         \u001b[0mfig\u001b[0m \u001b[0;34m=\u001b[0m \u001b[0mplt\u001b[0m\u001b[0;34m.\u001b[0m\u001b[0mimshow\u001b[0m\u001b[0;34m(\u001b[0m\u001b[0mscreen\u001b[0m\u001b[0;34m,\u001b[0m \u001b[0minterpolation\u001b[0m\u001b[0;34m=\u001b[0m\u001b[0;34m'nearest'\u001b[0m\u001b[0;34m,\u001b[0m \u001b[0mcmap\u001b[0m\u001b[0;34m=\u001b[0m\u001b[0mplt\u001b[0m\u001b[0;34m.\u001b[0m\u001b[0mcm\u001b[0m\u001b[0;34m.\u001b[0m\u001b[0mgray\u001b[0m\u001b[0;34m)\u001b[0m\u001b[0;34m\u001b[0m\u001b[0m\n\u001b[0;32m----> 7\u001b[0;31m         \u001b[0mplt\u001b[0m\u001b[0;34m.\u001b[0m\u001b[0mshow\u001b[0m\u001b[0;34m(\u001b[0m\u001b[0;34m)\u001b[0m\u001b[0;34m\u001b[0m\u001b[0m\n\u001b[0m\u001b[1;32m      8\u001b[0m         \u001b[0mprint\u001b[0m\u001b[0;34m(\u001b[0m\u001b[0;34m'reward: {}'\u001b[0m\u001b[0;34m.\u001b[0m\u001b[0mformat\u001b[0m\u001b[0;34m(\u001b[0m\u001b[0msar\u001b[0m\u001b[0;34m[\u001b[0m\u001b[0;36m2\u001b[0m\u001b[0;34m]\u001b[0m\u001b[0;34m)\u001b[0m\u001b[0;34m)\u001b[0m\u001b[0;34m\u001b[0m\u001b[0m\n\u001b[1;32m      9\u001b[0m \u001b[0;34m\u001b[0m\u001b[0m\n",
      "\u001b[0;32m/Users/joncomo/miniconda2/envs/phys/lib/python3.4/site-packages/matplotlib/pyplot.py\u001b[0m in \u001b[0;36mshow\u001b[0;34m(*args, **kw)\u001b[0m\n\u001b[1;32m    242\u001b[0m     \"\"\"\n\u001b[1;32m    243\u001b[0m     \u001b[0;32mglobal\u001b[0m \u001b[0m_show\u001b[0m\u001b[0;34m\u001b[0m\u001b[0m\n\u001b[0;32m--> 244\u001b[0;31m     \u001b[0;32mreturn\u001b[0m \u001b[0m_show\u001b[0m\u001b[0;34m(\u001b[0m\u001b[0;34m*\u001b[0m\u001b[0margs\u001b[0m\u001b[0;34m,\u001b[0m \u001b[0;34m**\u001b[0m\u001b[0mkw\u001b[0m\u001b[0;34m)\u001b[0m\u001b[0;34m\u001b[0m\u001b[0m\n\u001b[0m\u001b[1;32m    245\u001b[0m \u001b[0;34m\u001b[0m\u001b[0m\n\u001b[1;32m    246\u001b[0m \u001b[0;34m\u001b[0m\u001b[0m\n",
      "\u001b[0;32m/Users/joncomo/miniconda2/envs/phys/lib/python3.4/site-packages/ipykernel/pylab/backend_inline.py\u001b[0m in \u001b[0;36mshow\u001b[0;34m(close, block)\u001b[0m\n\u001b[1;32m     34\u001b[0m     \u001b[0;32mtry\u001b[0m\u001b[0;34m:\u001b[0m\u001b[0;34m\u001b[0m\u001b[0m\n\u001b[1;32m     35\u001b[0m         \u001b[0;32mfor\u001b[0m \u001b[0mfigure_manager\u001b[0m \u001b[0;32min\u001b[0m \u001b[0mGcf\u001b[0m\u001b[0;34m.\u001b[0m\u001b[0mget_all_fig_managers\u001b[0m\u001b[0;34m(\u001b[0m\u001b[0;34m)\u001b[0m\u001b[0;34m:\u001b[0m\u001b[0;34m\u001b[0m\u001b[0m\n\u001b[0;32m---> 36\u001b[0;31m             \u001b[0mdisplay\u001b[0m\u001b[0;34m(\u001b[0m\u001b[0mfigure_manager\u001b[0m\u001b[0;34m.\u001b[0m\u001b[0mcanvas\u001b[0m\u001b[0;34m.\u001b[0m\u001b[0mfigure\u001b[0m\u001b[0;34m)\u001b[0m\u001b[0;34m\u001b[0m\u001b[0m\n\u001b[0m\u001b[1;32m     37\u001b[0m     \u001b[0;32mfinally\u001b[0m\u001b[0;34m:\u001b[0m\u001b[0;34m\u001b[0m\u001b[0m\n\u001b[1;32m     38\u001b[0m         \u001b[0mshow\u001b[0m\u001b[0;34m.\u001b[0m\u001b[0m_to_draw\u001b[0m \u001b[0;34m=\u001b[0m \u001b[0;34m[\u001b[0m\u001b[0;34m]\u001b[0m\u001b[0;34m\u001b[0m\u001b[0m\n",
      "\u001b[0;32m/Users/joncomo/miniconda2/envs/phys/lib/python3.4/site-packages/IPython/core/display.py\u001b[0m in \u001b[0;36mdisplay\u001b[0;34m(*objs, **kwargs)\u001b[0m\n\u001b[1;32m    162\u001b[0m             \u001b[0mpublish_display_data\u001b[0m\u001b[0;34m(\u001b[0m\u001b[0mdata\u001b[0m\u001b[0;34m=\u001b[0m\u001b[0mobj\u001b[0m\u001b[0;34m,\u001b[0m \u001b[0mmetadata\u001b[0m\u001b[0;34m=\u001b[0m\u001b[0mmetadata\u001b[0m\u001b[0;34m)\u001b[0m\u001b[0;34m\u001b[0m\u001b[0m\n\u001b[1;32m    163\u001b[0m         \u001b[0;32melse\u001b[0m\u001b[0;34m:\u001b[0m\u001b[0;34m\u001b[0m\u001b[0m\n\u001b[0;32m--> 164\u001b[0;31m             \u001b[0mformat_dict\u001b[0m\u001b[0;34m,\u001b[0m \u001b[0mmd_dict\u001b[0m \u001b[0;34m=\u001b[0m \u001b[0mformat\u001b[0m\u001b[0;34m(\u001b[0m\u001b[0mobj\u001b[0m\u001b[0;34m,\u001b[0m \u001b[0minclude\u001b[0m\u001b[0;34m=\u001b[0m\u001b[0minclude\u001b[0m\u001b[0;34m,\u001b[0m \u001b[0mexclude\u001b[0m\u001b[0;34m=\u001b[0m\u001b[0mexclude\u001b[0m\u001b[0;34m)\u001b[0m\u001b[0;34m\u001b[0m\u001b[0m\n\u001b[0m\u001b[1;32m    165\u001b[0m             \u001b[0;32mif\u001b[0m \u001b[0;32mnot\u001b[0m \u001b[0mformat_dict\u001b[0m\u001b[0;34m:\u001b[0m\u001b[0;34m\u001b[0m\u001b[0m\n\u001b[1;32m    166\u001b[0m                 \u001b[0;31m# nothing to display (e.g. _ipython_display_ took over)\u001b[0m\u001b[0;34m\u001b[0m\u001b[0;34m\u001b[0m\u001b[0m\n",
      "\u001b[0;32m/Users/joncomo/miniconda2/envs/phys/lib/python3.4/site-packages/IPython/core/formatters.py\u001b[0m in \u001b[0;36mformat\u001b[0;34m(self, obj, include, exclude)\u001b[0m\n\u001b[1;32m    143\u001b[0m             \u001b[0mmd\u001b[0m \u001b[0;34m=\u001b[0m \u001b[0;32mNone\u001b[0m\u001b[0;34m\u001b[0m\u001b[0m\n\u001b[1;32m    144\u001b[0m             \u001b[0;32mtry\u001b[0m\u001b[0;34m:\u001b[0m\u001b[0;34m\u001b[0m\u001b[0m\n\u001b[0;32m--> 145\u001b[0;31m                 \u001b[0mdata\u001b[0m \u001b[0;34m=\u001b[0m \u001b[0mformatter\u001b[0m\u001b[0;34m(\u001b[0m\u001b[0mobj\u001b[0m\u001b[0;34m)\u001b[0m\u001b[0;34m\u001b[0m\u001b[0m\n\u001b[0m\u001b[1;32m    146\u001b[0m             \u001b[0;32mexcept\u001b[0m\u001b[0;34m:\u001b[0m\u001b[0;34m\u001b[0m\u001b[0m\n\u001b[1;32m    147\u001b[0m                 \u001b[0;31m# FIXME: log the exception\u001b[0m\u001b[0;34m\u001b[0m\u001b[0;34m\u001b[0m\u001b[0m\n",
      "\u001b[0;32m<decorator-gen-9>\u001b[0m in \u001b[0;36m__call__\u001b[0;34m(self, obj)\u001b[0m\n",
      "\u001b[0;32m/Users/joncomo/miniconda2/envs/phys/lib/python3.4/site-packages/IPython/core/formatters.py\u001b[0m in \u001b[0;36mcatch_format_error\u001b[0;34m(method, self, *args, **kwargs)\u001b[0m\n\u001b[1;32m    188\u001b[0m     \u001b[0;34m\"\"\"show traceback on failed format call\"\"\"\u001b[0m\u001b[0;34m\u001b[0m\u001b[0m\n\u001b[1;32m    189\u001b[0m     \u001b[0;32mtry\u001b[0m\u001b[0;34m:\u001b[0m\u001b[0;34m\u001b[0m\u001b[0m\n\u001b[0;32m--> 190\u001b[0;31m         \u001b[0mr\u001b[0m \u001b[0;34m=\u001b[0m \u001b[0mmethod\u001b[0m\u001b[0;34m(\u001b[0m\u001b[0mself\u001b[0m\u001b[0;34m,\u001b[0m \u001b[0;34m*\u001b[0m\u001b[0margs\u001b[0m\u001b[0;34m,\u001b[0m \u001b[0;34m**\u001b[0m\u001b[0mkwargs\u001b[0m\u001b[0;34m)\u001b[0m\u001b[0;34m\u001b[0m\u001b[0m\n\u001b[0m\u001b[1;32m    191\u001b[0m     \u001b[0;32mexcept\u001b[0m \u001b[0mNotImplementedError\u001b[0m\u001b[0;34m:\u001b[0m\u001b[0;34m\u001b[0m\u001b[0m\n\u001b[1;32m    192\u001b[0m         \u001b[0;31m# don't warn on NotImplementedErrors\u001b[0m\u001b[0;34m\u001b[0m\u001b[0;34m\u001b[0m\u001b[0m\n",
      "\u001b[0;32m/Users/joncomo/miniconda2/envs/phys/lib/python3.4/site-packages/IPython/core/formatters.py\u001b[0m in \u001b[0;36m__call__\u001b[0;34m(self, obj)\u001b[0m\n\u001b[1;32m    305\u001b[0m                 \u001b[0;32mpass\u001b[0m\u001b[0;34m\u001b[0m\u001b[0m\n\u001b[1;32m    306\u001b[0m             \u001b[0;32melse\u001b[0m\u001b[0;34m:\u001b[0m\u001b[0;34m\u001b[0m\u001b[0m\n\u001b[0;32m--> 307\u001b[0;31m                 \u001b[0;32mreturn\u001b[0m \u001b[0mprinter\u001b[0m\u001b[0;34m(\u001b[0m\u001b[0mobj\u001b[0m\u001b[0;34m)\u001b[0m\u001b[0;34m\u001b[0m\u001b[0m\n\u001b[0m\u001b[1;32m    308\u001b[0m             \u001b[0;31m# Finally look for special method names\u001b[0m\u001b[0;34m\u001b[0m\u001b[0;34m\u001b[0m\u001b[0m\n\u001b[1;32m    309\u001b[0m             \u001b[0mmethod\u001b[0m \u001b[0;34m=\u001b[0m \u001b[0mget_real_method\u001b[0m\u001b[0;34m(\u001b[0m\u001b[0mobj\u001b[0m\u001b[0;34m,\u001b[0m \u001b[0mself\u001b[0m\u001b[0;34m.\u001b[0m\u001b[0mprint_method\u001b[0m\u001b[0;34m)\u001b[0m\u001b[0;34m\u001b[0m\u001b[0m\n",
      "\u001b[0;32m/Users/joncomo/miniconda2/envs/phys/lib/python3.4/site-packages/IPython/core/pylabtools.py\u001b[0m in \u001b[0;36m<lambda>\u001b[0;34m(fig)\u001b[0m\n\u001b[1;32m    226\u001b[0m \u001b[0;34m\u001b[0m\u001b[0m\n\u001b[1;32m    227\u001b[0m     \u001b[0;32mif\u001b[0m \u001b[0;34m'png'\u001b[0m \u001b[0;32min\u001b[0m \u001b[0mformats\u001b[0m\u001b[0;34m:\u001b[0m\u001b[0;34m\u001b[0m\u001b[0m\n\u001b[0;32m--> 228\u001b[0;31m         \u001b[0mpng_formatter\u001b[0m\u001b[0;34m.\u001b[0m\u001b[0mfor_type\u001b[0m\u001b[0;34m(\u001b[0m\u001b[0mFigure\u001b[0m\u001b[0;34m,\u001b[0m \u001b[0;32mlambda\u001b[0m \u001b[0mfig\u001b[0m\u001b[0;34m:\u001b[0m \u001b[0mprint_figure\u001b[0m\u001b[0;34m(\u001b[0m\u001b[0mfig\u001b[0m\u001b[0;34m,\u001b[0m \u001b[0;34m'png'\u001b[0m\u001b[0;34m,\u001b[0m \u001b[0;34m**\u001b[0m\u001b[0mkwargs\u001b[0m\u001b[0;34m)\u001b[0m\u001b[0;34m)\u001b[0m\u001b[0;34m\u001b[0m\u001b[0m\n\u001b[0m\u001b[1;32m    229\u001b[0m     \u001b[0;32mif\u001b[0m \u001b[0;34m'retina'\u001b[0m \u001b[0;32min\u001b[0m \u001b[0mformats\u001b[0m \u001b[0;32mor\u001b[0m \u001b[0;34m'png2x'\u001b[0m \u001b[0;32min\u001b[0m \u001b[0mformats\u001b[0m\u001b[0;34m:\u001b[0m\u001b[0;34m\u001b[0m\u001b[0m\n\u001b[1;32m    230\u001b[0m         \u001b[0mpng_formatter\u001b[0m\u001b[0;34m.\u001b[0m\u001b[0mfor_type\u001b[0m\u001b[0;34m(\u001b[0m\u001b[0mFigure\u001b[0m\u001b[0;34m,\u001b[0m \u001b[0;32mlambda\u001b[0m \u001b[0mfig\u001b[0m\u001b[0;34m:\u001b[0m \u001b[0mretina_figure\u001b[0m\u001b[0;34m(\u001b[0m\u001b[0mfig\u001b[0m\u001b[0;34m,\u001b[0m \u001b[0;34m**\u001b[0m\u001b[0mkwargs\u001b[0m\u001b[0;34m)\u001b[0m\u001b[0;34m)\u001b[0m\u001b[0;34m\u001b[0m\u001b[0m\n",
      "\u001b[0;32m/Users/joncomo/miniconda2/envs/phys/lib/python3.4/site-packages/IPython/core/pylabtools.py\u001b[0m in \u001b[0;36mprint_figure\u001b[0;34m(fig, fmt, bbox_inches, **kwargs)\u001b[0m\n\u001b[1;32m    117\u001b[0m \u001b[0;34m\u001b[0m\u001b[0m\n\u001b[1;32m    118\u001b[0m     \u001b[0mbytes_io\u001b[0m \u001b[0;34m=\u001b[0m \u001b[0mBytesIO\u001b[0m\u001b[0;34m(\u001b[0m\u001b[0;34m)\u001b[0m\u001b[0;34m\u001b[0m\u001b[0m\n\u001b[0;32m--> 119\u001b[0;31m     \u001b[0mfig\u001b[0m\u001b[0;34m.\u001b[0m\u001b[0mcanvas\u001b[0m\u001b[0;34m.\u001b[0m\u001b[0mprint_figure\u001b[0m\u001b[0;34m(\u001b[0m\u001b[0mbytes_io\u001b[0m\u001b[0;34m,\u001b[0m \u001b[0;34m**\u001b[0m\u001b[0mkw\u001b[0m\u001b[0;34m)\u001b[0m\u001b[0;34m\u001b[0m\u001b[0m\n\u001b[0m\u001b[1;32m    120\u001b[0m     \u001b[0mdata\u001b[0m \u001b[0;34m=\u001b[0m \u001b[0mbytes_io\u001b[0m\u001b[0;34m.\u001b[0m\u001b[0mgetvalue\u001b[0m\u001b[0;34m(\u001b[0m\u001b[0;34m)\u001b[0m\u001b[0;34m\u001b[0m\u001b[0m\n\u001b[1;32m    121\u001b[0m     \u001b[0;32mif\u001b[0m \u001b[0mfmt\u001b[0m \u001b[0;34m==\u001b[0m \u001b[0;34m'svg'\u001b[0m\u001b[0;34m:\u001b[0m\u001b[0;34m\u001b[0m\u001b[0m\n",
      "\u001b[0;32m/Users/joncomo/miniconda2/envs/phys/lib/python3.4/site-packages/matplotlib/backend_bases.py\u001b[0m in \u001b[0;36mprint_figure\u001b[0;34m(self, filename, dpi, facecolor, edgecolor, orientation, format, **kwargs)\u001b[0m\n\u001b[1;32m   2180\u001b[0m                     **kwargs)\n\u001b[1;32m   2181\u001b[0m                 \u001b[0mrenderer\u001b[0m \u001b[0;34m=\u001b[0m \u001b[0mself\u001b[0m\u001b[0;34m.\u001b[0m\u001b[0mfigure\u001b[0m\u001b[0;34m.\u001b[0m\u001b[0m_cachedRenderer\u001b[0m\u001b[0;34m\u001b[0m\u001b[0m\n\u001b[0;32m-> 2182\u001b[0;31m                 \u001b[0mbbox_inches\u001b[0m \u001b[0;34m=\u001b[0m \u001b[0mself\u001b[0m\u001b[0;34m.\u001b[0m\u001b[0mfigure\u001b[0m\u001b[0;34m.\u001b[0m\u001b[0mget_tightbbox\u001b[0m\u001b[0;34m(\u001b[0m\u001b[0mrenderer\u001b[0m\u001b[0;34m)\u001b[0m\u001b[0;34m\u001b[0m\u001b[0m\n\u001b[0m\u001b[1;32m   2183\u001b[0m \u001b[0;34m\u001b[0m\u001b[0m\n\u001b[1;32m   2184\u001b[0m                 \u001b[0mbbox_artists\u001b[0m \u001b[0;34m=\u001b[0m \u001b[0mkwargs\u001b[0m\u001b[0;34m.\u001b[0m\u001b[0mpop\u001b[0m\u001b[0;34m(\u001b[0m\u001b[0;34m\"bbox_extra_artists\"\u001b[0m\u001b[0;34m,\u001b[0m \u001b[0;32mNone\u001b[0m\u001b[0;34m)\u001b[0m\u001b[0;34m\u001b[0m\u001b[0m\n",
      "\u001b[0;32m/Users/joncomo/miniconda2/envs/phys/lib/python3.4/site-packages/matplotlib/figure.py\u001b[0m in \u001b[0;36mget_tightbbox\u001b[0;34m(self, renderer)\u001b[0m\n\u001b[1;32m   1706\u001b[0m         \u001b[0;32mfor\u001b[0m \u001b[0max\u001b[0m \u001b[0;32min\u001b[0m \u001b[0mself\u001b[0m\u001b[0;34m.\u001b[0m\u001b[0maxes\u001b[0m\u001b[0;34m:\u001b[0m\u001b[0;34m\u001b[0m\u001b[0m\n\u001b[1;32m   1707\u001b[0m             \u001b[0;32mif\u001b[0m \u001b[0max\u001b[0m\u001b[0;34m.\u001b[0m\u001b[0mget_visible\u001b[0m\u001b[0;34m(\u001b[0m\u001b[0;34m)\u001b[0m\u001b[0;34m:\u001b[0m\u001b[0;34m\u001b[0m\u001b[0m\n\u001b[0;32m-> 1708\u001b[0;31m                 \u001b[0mbb\u001b[0m\u001b[0;34m.\u001b[0m\u001b[0mappend\u001b[0m\u001b[0;34m(\u001b[0m\u001b[0max\u001b[0m\u001b[0;34m.\u001b[0m\u001b[0mget_tightbbox\u001b[0m\u001b[0;34m(\u001b[0m\u001b[0mrenderer\u001b[0m\u001b[0;34m)\u001b[0m\u001b[0;34m)\u001b[0m\u001b[0;34m\u001b[0m\u001b[0m\n\u001b[0m\u001b[1;32m   1709\u001b[0m \u001b[0;34m\u001b[0m\u001b[0m\n\u001b[1;32m   1710\u001b[0m         \u001b[0;32mif\u001b[0m \u001b[0mlen\u001b[0m\u001b[0;34m(\u001b[0m\u001b[0mbb\u001b[0m\u001b[0;34m)\u001b[0m \u001b[0;34m==\u001b[0m \u001b[0;36m0\u001b[0m\u001b[0;34m:\u001b[0m\u001b[0;34m\u001b[0m\u001b[0m\n",
      "\u001b[0;32m/Users/joncomo/miniconda2/envs/phys/lib/python3.4/site-packages/matplotlib/axes/_base.py\u001b[0m in \u001b[0;36mget_tightbbox\u001b[0;34m(self, renderer, call_axes_locator)\u001b[0m\n\u001b[1;32m   3677\u001b[0m             \u001b[0mbb\u001b[0m\u001b[0;34m.\u001b[0m\u001b[0mappend\u001b[0m\u001b[0;34m(\u001b[0m\u001b[0mself\u001b[0m\u001b[0;34m.\u001b[0m\u001b[0m_right_title\u001b[0m\u001b[0;34m.\u001b[0m\u001b[0mget_window_extent\u001b[0m\u001b[0;34m(\u001b[0m\u001b[0mrenderer\u001b[0m\u001b[0;34m)\u001b[0m\u001b[0;34m)\u001b[0m\u001b[0;34m\u001b[0m\u001b[0m\n\u001b[1;32m   3678\u001b[0m \u001b[0;34m\u001b[0m\u001b[0m\n\u001b[0;32m-> 3679\u001b[0;31m         \u001b[0mbb_xaxis\u001b[0m \u001b[0;34m=\u001b[0m \u001b[0mself\u001b[0m\u001b[0;34m.\u001b[0m\u001b[0mxaxis\u001b[0m\u001b[0;34m.\u001b[0m\u001b[0mget_tightbbox\u001b[0m\u001b[0;34m(\u001b[0m\u001b[0mrenderer\u001b[0m\u001b[0;34m)\u001b[0m\u001b[0;34m\u001b[0m\u001b[0m\n\u001b[0m\u001b[1;32m   3680\u001b[0m         \u001b[0;32mif\u001b[0m \u001b[0mbb_xaxis\u001b[0m\u001b[0;34m:\u001b[0m\u001b[0;34m\u001b[0m\u001b[0m\n\u001b[1;32m   3681\u001b[0m             \u001b[0mbb\u001b[0m\u001b[0;34m.\u001b[0m\u001b[0mappend\u001b[0m\u001b[0;34m(\u001b[0m\u001b[0mbb_xaxis\u001b[0m\u001b[0;34m)\u001b[0m\u001b[0;34m\u001b[0m\u001b[0m\n",
      "\u001b[0;32m/Users/joncomo/miniconda2/envs/phys/lib/python3.4/site-packages/matplotlib/axis.py\u001b[0m in \u001b[0;36mget_tightbbox\u001b[0;34m(self, renderer)\u001b[0m\n\u001b[1;32m   1073\u001b[0m         \u001b[0mticks_to_draw\u001b[0m \u001b[0;34m=\u001b[0m \u001b[0mself\u001b[0m\u001b[0;34m.\u001b[0m\u001b[0m_update_ticks\u001b[0m\u001b[0;34m(\u001b[0m\u001b[0mrenderer\u001b[0m\u001b[0;34m)\u001b[0m\u001b[0;34m\u001b[0m\u001b[0m\n\u001b[1;32m   1074\u001b[0m         ticklabelBoxes, ticklabelBoxes2 = self._get_tick_bboxes(ticks_to_draw,\n\u001b[0;32m-> 1075\u001b[0;31m                                                                 renderer)\n\u001b[0m\u001b[1;32m   1076\u001b[0m \u001b[0;34m\u001b[0m\u001b[0m\n\u001b[1;32m   1077\u001b[0m         \u001b[0mself\u001b[0m\u001b[0;34m.\u001b[0m\u001b[0m_update_label_position\u001b[0m\u001b[0;34m(\u001b[0m\u001b[0mticklabelBoxes\u001b[0m\u001b[0;34m,\u001b[0m \u001b[0mticklabelBoxes2\u001b[0m\u001b[0;34m)\u001b[0m\u001b[0;34m\u001b[0m\u001b[0m\n",
      "\u001b[0;32m/Users/joncomo/miniconda2/envs/phys/lib/python3.4/site-packages/matplotlib/axis.py\u001b[0m in \u001b[0;36m_get_tick_bboxes\u001b[0;34m(self, ticks, renderer)\u001b[0m\n\u001b[1;32m   1056\u001b[0m         \u001b[0;32mfor\u001b[0m \u001b[0mtick\u001b[0m \u001b[0;32min\u001b[0m \u001b[0mticks\u001b[0m\u001b[0;34m:\u001b[0m\u001b[0;34m\u001b[0m\u001b[0m\n\u001b[1;32m   1057\u001b[0m             \u001b[0;32mif\u001b[0m \u001b[0mtick\u001b[0m\u001b[0;34m.\u001b[0m\u001b[0mlabel1On\u001b[0m \u001b[0;32mand\u001b[0m \u001b[0mtick\u001b[0m\u001b[0;34m.\u001b[0m\u001b[0mlabel1\u001b[0m\u001b[0;34m.\u001b[0m\u001b[0mget_visible\u001b[0m\u001b[0;34m(\u001b[0m\u001b[0;34m)\u001b[0m\u001b[0;34m:\u001b[0m\u001b[0;34m\u001b[0m\u001b[0m\n\u001b[0;32m-> 1058\u001b[0;31m                 \u001b[0mextent\u001b[0m \u001b[0;34m=\u001b[0m \u001b[0mtick\u001b[0m\u001b[0;34m.\u001b[0m\u001b[0mlabel1\u001b[0m\u001b[0;34m.\u001b[0m\u001b[0mget_window_extent\u001b[0m\u001b[0;34m(\u001b[0m\u001b[0mrenderer\u001b[0m\u001b[0;34m)\u001b[0m\u001b[0;34m\u001b[0m\u001b[0m\n\u001b[0m\u001b[1;32m   1059\u001b[0m                 \u001b[0mticklabelBoxes\u001b[0m\u001b[0;34m.\u001b[0m\u001b[0mappend\u001b[0m\u001b[0;34m(\u001b[0m\u001b[0mextent\u001b[0m\u001b[0;34m)\u001b[0m\u001b[0;34m\u001b[0m\u001b[0m\n\u001b[1;32m   1060\u001b[0m             \u001b[0;32mif\u001b[0m \u001b[0mtick\u001b[0m\u001b[0;34m.\u001b[0m\u001b[0mlabel2On\u001b[0m \u001b[0;32mand\u001b[0m \u001b[0mtick\u001b[0m\u001b[0;34m.\u001b[0m\u001b[0mlabel2\u001b[0m\u001b[0;34m.\u001b[0m\u001b[0mget_visible\u001b[0m\u001b[0;34m(\u001b[0m\u001b[0;34m)\u001b[0m\u001b[0;34m:\u001b[0m\u001b[0;34m\u001b[0m\u001b[0m\n",
      "\u001b[0;32m/Users/joncomo/miniconda2/envs/phys/lib/python3.4/site-packages/matplotlib/text.py\u001b[0m in \u001b[0;36mget_window_extent\u001b[0;34m(self, renderer, dpi)\u001b[0m\n\u001b[1;32m    962\u001b[0m         \u001b[0mx\u001b[0m\u001b[0;34m,\u001b[0m \u001b[0my\u001b[0m \u001b[0;34m=\u001b[0m \u001b[0mself\u001b[0m\u001b[0;34m.\u001b[0m\u001b[0mget_unitless_position\u001b[0m\u001b[0;34m(\u001b[0m\u001b[0;34m)\u001b[0m\u001b[0;34m\u001b[0m\u001b[0m\n\u001b[1;32m    963\u001b[0m         \u001b[0mx\u001b[0m\u001b[0;34m,\u001b[0m \u001b[0my\u001b[0m \u001b[0;34m=\u001b[0m \u001b[0mself\u001b[0m\u001b[0;34m.\u001b[0m\u001b[0mget_transform\u001b[0m\u001b[0;34m(\u001b[0m\u001b[0;34m)\u001b[0m\u001b[0;34m.\u001b[0m\u001b[0mtransform_point\u001b[0m\u001b[0;34m(\u001b[0m\u001b[0;34m(\u001b[0m\u001b[0mx\u001b[0m\u001b[0;34m,\u001b[0m \u001b[0my\u001b[0m\u001b[0;34m)\u001b[0m\u001b[0;34m)\u001b[0m\u001b[0;34m\u001b[0m\u001b[0m\n\u001b[0;32m--> 964\u001b[0;31m         \u001b[0mbbox\u001b[0m \u001b[0;34m=\u001b[0m \u001b[0mbbox\u001b[0m\u001b[0;34m.\u001b[0m\u001b[0mtranslated\u001b[0m\u001b[0;34m(\u001b[0m\u001b[0mx\u001b[0m\u001b[0;34m,\u001b[0m \u001b[0my\u001b[0m\u001b[0;34m)\u001b[0m\u001b[0;34m\u001b[0m\u001b[0m\n\u001b[0m\u001b[1;32m    965\u001b[0m         \u001b[0;32mif\u001b[0m \u001b[0mdpi\u001b[0m \u001b[0;32mis\u001b[0m \u001b[0;32mnot\u001b[0m \u001b[0;32mNone\u001b[0m\u001b[0;34m:\u001b[0m\u001b[0;34m\u001b[0m\u001b[0m\n\u001b[1;32m    966\u001b[0m             \u001b[0mself\u001b[0m\u001b[0;34m.\u001b[0m\u001b[0mfigure\u001b[0m\u001b[0;34m.\u001b[0m\u001b[0mdpi\u001b[0m \u001b[0;34m=\u001b[0m \u001b[0mdpi_orig\u001b[0m\u001b[0;34m\u001b[0m\u001b[0m\n",
      "\u001b[0;32m/Users/joncomo/miniconda2/envs/phys/lib/python3.4/site-packages/matplotlib/transforms.py\u001b[0m in \u001b[0;36mtranslated\u001b[0;34m(self, tx, ty)\u001b[0m\n\u001b[1;32m    696\u001b[0m         \u001b[0;34m*\u001b[0m\u001b[0mtx\u001b[0m\u001b[0;34m*\u001b[0m \u001b[0;32mand\u001b[0m \u001b[0;34m*\u001b[0m\u001b[0mty\u001b[0m\u001b[0;34m*\u001b[0m\u001b[0;34m.\u001b[0m\u001b[0;34m\u001b[0m\u001b[0m\n\u001b[1;32m    697\u001b[0m         \"\"\"\n\u001b[0;32m--> 698\u001b[0;31m         \u001b[0;32mreturn\u001b[0m \u001b[0mBbox\u001b[0m\u001b[0;34m(\u001b[0m\u001b[0mself\u001b[0m\u001b[0;34m.\u001b[0m\u001b[0m_points\u001b[0m \u001b[0;34m+\u001b[0m \u001b[0;34m(\u001b[0m\u001b[0mtx\u001b[0m\u001b[0;34m,\u001b[0m \u001b[0mty\u001b[0m\u001b[0;34m)\u001b[0m\u001b[0;34m)\u001b[0m\u001b[0;34m\u001b[0m\u001b[0m\n\u001b[0m\u001b[1;32m    699\u001b[0m \u001b[0;34m\u001b[0m\u001b[0m\n\u001b[1;32m    700\u001b[0m     \u001b[0;32mdef\u001b[0m \u001b[0mcorners\u001b[0m\u001b[0;34m(\u001b[0m\u001b[0mself\u001b[0m\u001b[0;34m)\u001b[0m\u001b[0;34m:\u001b[0m\u001b[0;34m\u001b[0m\u001b[0m\n",
      "\u001b[0;32m/Users/joncomo/miniconda2/envs/phys/lib/python3.4/site-packages/matplotlib/transforms.py\u001b[0m in \u001b[0;36m__init__\u001b[0;34m(self, points, **kwargs)\u001b[0m\n\u001b[1;32m    786\u001b[0m         \u001b[0;34m:\u001b[0m\u001b[0mmeth\u001b[0m\u001b[0;34m:\u001b[0m\u001b[0;31m`\u001b[0m\u001b[0mfrom_bounds\u001b[0m\u001b[0;31m`\u001b[0m \u001b[0;32mand\u001b[0m \u001b[0;34m:\u001b[0m\u001b[0mmeth\u001b[0m\u001b[0;34m:\u001b[0m\u001b[0;31m`\u001b[0m\u001b[0mfrom_extents\u001b[0m\u001b[0;31m`\u001b[0m\u001b[0;34m.\u001b[0m\u001b[0;34m\u001b[0m\u001b[0m\n\u001b[1;32m    787\u001b[0m         \"\"\"\n\u001b[0;32m--> 788\u001b[0;31m         \u001b[0mBboxBase\u001b[0m\u001b[0;34m.\u001b[0m\u001b[0m__init__\u001b[0m\u001b[0;34m(\u001b[0m\u001b[0mself\u001b[0m\u001b[0;34m,\u001b[0m \u001b[0;34m**\u001b[0m\u001b[0mkwargs\u001b[0m\u001b[0;34m)\u001b[0m\u001b[0;34m\u001b[0m\u001b[0m\n\u001b[0m\u001b[1;32m    789\u001b[0m         \u001b[0mpoints\u001b[0m \u001b[0;34m=\u001b[0m \u001b[0mnp\u001b[0m\u001b[0;34m.\u001b[0m\u001b[0masarray\u001b[0m\u001b[0;34m(\u001b[0m\u001b[0mpoints\u001b[0m\u001b[0;34m,\u001b[0m \u001b[0mnp\u001b[0m\u001b[0;34m.\u001b[0m\u001b[0mfloat_\u001b[0m\u001b[0;34m)\u001b[0m\u001b[0;34m\u001b[0m\u001b[0m\n\u001b[1;32m    790\u001b[0m         \u001b[0;32mif\u001b[0m \u001b[0mpoints\u001b[0m\u001b[0;34m.\u001b[0m\u001b[0mshape\u001b[0m \u001b[0;34m!=\u001b[0m \u001b[0;34m(\u001b[0m\u001b[0;36m2\u001b[0m\u001b[0;34m,\u001b[0m \u001b[0;36m2\u001b[0m\u001b[0;34m)\u001b[0m\u001b[0;34m:\u001b[0m\u001b[0;34m\u001b[0m\u001b[0m\n",
      "\u001b[0;32m/Users/joncomo/miniconda2/envs/phys/lib/python3.4/site-packages/matplotlib/transforms.py\u001b[0m in \u001b[0;36m__init__\u001b[0;34m(self, shorthand_name)\u001b[0m\n\u001b[1;32m     96\u001b[0m         \u001b[0;31m# parents are deleted, references from the children won't keep\u001b[0m\u001b[0;34m\u001b[0m\u001b[0;34m\u001b[0m\u001b[0m\n\u001b[1;32m     97\u001b[0m         \u001b[0;31m# them alive.\u001b[0m\u001b[0;34m\u001b[0m\u001b[0;34m\u001b[0m\u001b[0m\n\u001b[0;32m---> 98\u001b[0;31m         \u001b[0mself\u001b[0m\u001b[0;34m.\u001b[0m\u001b[0m_parents\u001b[0m \u001b[0;34m=\u001b[0m \u001b[0mWeakValueDictionary\u001b[0m\u001b[0;34m(\u001b[0m\u001b[0;34m)\u001b[0m\u001b[0;34m\u001b[0m\u001b[0m\n\u001b[0m\u001b[1;32m     99\u001b[0m \u001b[0;34m\u001b[0m\u001b[0m\n\u001b[1;32m    100\u001b[0m         \u001b[0;31m# TransformNodes start out as invalid until their values are\u001b[0m\u001b[0;34m\u001b[0m\u001b[0;34m\u001b[0m\u001b[0m\n",
      "\u001b[0;31mKeyboardInterrupt\u001b[0m: "
     ]
    }
   ],
   "source": [
    "def play_session(session):\n",
    "    for sar in session:\n",
    "        screen = env.render(sar[0], alpha_mode=False)\n",
    "        \n",
    "        clear_output(wait=True)\n",
    "        fig = plt.imshow(screen, interpolation='nearest', cmap=plt.cm.gray)\n",
    "        plt.show()\n",
    "        print('reward: {}'.format(sar[2]))\n",
    "        \n",
    "# most food session\n",
    "\n",
    "best_s = None\n",
    "max_r = 0\n",
    "\n",
    "for session in history:\n",
    "    r = 0\n",
    "    for sar in session:\n",
    "        r += sar[2]\n",
    "        if r > max_r:\n",
    "            max_r = r\n",
    "            best_s = session\n",
    "            \n",
    "play_session(best_s)"
   ]
  },
  {
   "cell_type": "code",
   "execution_count": 26,
   "metadata": {
    "collapsed": true
   },
   "outputs": [],
   "source": [
    "# time steps per session\n",
    "TIME_STEPS = 2\n",
    "\n",
    "input_shape = None\n",
    "if K.image_data_format() == 'channels_first':\n",
    "    input_shape = (TIME_STEPS, env.r, env.c)\n",
    "else:\n",
    "    input_shape = (env.r, env.c, TIME_STEPS)\n",
    "\n",
    "model = Sequential()\n",
    "model.add(Conv2D(32, kernel_size=(3, 3),\n",
    "                 activation='relu',\n",
    "                 input_shape=input_shape))\n",
    "model.add(Conv2D(64, (3, 3), activation='relu'))\n",
    "#model.add(MaxPooling2D(pool_size=(2, 2)))\n",
    "#model.add(Dropout(0.20))\n",
    "model.add(Flatten())\n",
    "model.add(Dense(256, activation='relu'))\n",
    "#model.add(Dropout(0.20))\n",
    "\n",
    "model.add(Dense(4, activation='tanh'))\n",
    "\n",
    "model.compile(loss=keras.losses.mse,\n",
    "      optimizer=keras.optimizers.Adadelta(lr=1),\n",
    "      metrics=['accuracy'])"
   ]
  },
  {
   "cell_type": "code",
   "execution_count": 28,
   "metadata": {
    "collapsed": false
   },
   "outputs": [
    {
     "name": "stdout",
     "output_type": "stream",
     "text": [
      "9998\n",
      "19998\n",
      "29998\n",
      "39998\n",
      "49998\n"
     ]
    }
   ],
   "source": [
    "# train the model, predict action reward given state\n",
    "\n",
    "x_train = []\n",
    "y_train = []\n",
    "\n",
    "i = 0\n",
    "while len(x_train) < 50000:\n",
    "    i += 1\n",
    "    if (i+1) % 10000 == 0:\n",
    "        print(len(x_train))\n",
    "        \n",
    "    random_session = history[randint(len(history))]\n",
    "    ri = randint(0, len(random_session)-TIME_STEPS)\n",
    "    \n",
    "    sars = [random_session[ri + t] for t in range(TIME_STEPS)]\n",
    "    states = [sar[0] for sar in sars]\n",
    "    state = env.stack(states)\n",
    "    reward = sars[-1][2] # reward for state\n",
    "    \n",
    "    action = np.zeros(4)\n",
    "    action[sars[0][1]] = 1\n",
    "    action *= reward\n",
    "    \n",
    "    x_train.append(state)\n",
    "    y_train.append(action)\n",
    "    \n",
    "    #r = np.random.random_sample()\n",
    "    \n",
    "    #if r < .33:\n",
    "    #    x_train.append(state)\n",
    "    #elif r >= .33 and r < .66:\n",
    "    #    x_train.append(np.fliplr(state))\n",
    "    #else:\n",
    "    #    x_train.append(np.flipud(state))"
   ]
  },
  {
   "cell_type": "code",
   "execution_count": 29,
   "metadata": {
    "collapsed": false
   },
   "outputs": [
    {
     "name": "stdout",
     "output_type": "stream",
     "text": [
      "Epoch 1/1\n",
      "50000/50000 [==============================] - 19s 371us/step - loss: 0.0281 - acc: 0.2580\n"
     ]
    },
    {
     "data": {
      "image/png": "[encoded data removed]",
      "text/plain": [
       "<matplotlib.figure.Figure at 0x157286438>"
      ]
     },
     "metadata": {},
     "output_type": "display_data"
    }
   ],
   "source": [
    "model.fit(np.vstack(x_train), np.vstack(y_train), batch_size=16, epochs=1)\n",
    "\n",
    "fig = plt.plot(model.predict(np.vstack(x_train)[:100]), c='r')\n",
    "fig = plt.plot(np.vstack(y_train)[:100], c='b')"
   ]
  },
  {
   "cell_type": "code",
   "execution_count": 30,
   "metadata": {
    "collapsed": false
   },
   "outputs": [
    {
     "name": "stdout",
     "output_type": "stream",
     "text": [
      "[ 0.00914209  0.02653881  0.01117035  0.03249703]\n",
      "[ 0.01126774  0.03100816  0.02226791  0.03479934]\n",
      "[ 0.04852794  0.04201436  0.02903464  0.03789631]\n",
      "[ 0.05712643  0.06320058  0.03165692  0.08037718]\n",
      "[ 0.04357233  0.03883103  0.01229465  0.07210346]\n",
      "[ 0.04937203  0.02852326  0.01338968  0.06348971]\n",
      "[ 0.04043509  0.01611851  0.01299523  0.05222461]\n",
      "[ 0.02244946  0.01423651  0.02259938  0.04193015]\n",
      "[ 0.0193619   0.01978227  0.02282416  0.03650669]\n",
      "[ 0.01443903  0.01647198  0.00530574  0.03289159]\n",
      "[ 0.02183785  0.03802078  0.02788378  0.03482125]\n",
      "[ 0.03154574  0.06049487  0.01653176  0.04282254]\n",
      "[ 0.02472516  0.06778585  0.03497447  0.04096263]\n",
      "[ 0.02641283  0.06635145  0.0314281   0.03377245]\n",
      "[ 0.02547907  0.06295339  0.02825891  0.04205624]\n",
      "[ 0.0278434   0.06124607  0.03508802  0.04043537]\n",
      "[ 0.0459633   0.06056118  0.04203039  0.04272022]\n",
      "[ 0.06863166  0.07219889  0.05530645  0.05778756]\n",
      "[ 0.02391607  0.0302135   0.00305234  0.06866868]\n",
      "[ 0.03762885  0.02191354  0.02673265  0.05801066]\n",
      "[ 0.04248732  0.04436472  0.02832793  0.03580995]\n",
      "[  2.92326398e-02   7.13076370e-05   5.63574489e-03   3.60862203e-02]\n",
      "[ 0.00716451  0.00038602  0.01824578  0.02707006]\n",
      "[ 0.00591214  0.00508869  0.0147928   0.02634801]\n",
      "[ 0.00284836  0.00289166 -0.00159171  0.02546167]\n",
      "[ 0.01061893  0.0267116   0.02143465  0.02053053]\n",
      "[ 0.02079233  0.04894269  0.01174356  0.03257945]\n",
      "[ 0.01879325  0.05957399  0.03683392  0.03267703]\n",
      "[ 0.02822326  0.0707004   0.04425678  0.03592965]\n",
      "[ 0.03017409  0.06878877  0.03752408  0.04939832]\n",
      "[ 0.03553599  0.06736089  0.04581565  0.0507987 ]\n",
      "[ 0.05371191  0.06505417  0.04977297  0.05079928]\n",
      "[ 0.07596713  0.07520011  0.06276538  0.06538849]\n",
      "[ 0.00860957  0.02867656  0.01607096  0.03573685]\n",
      "[ 0.01045483  0.03778561  0.02568022  0.03347209]\n",
      "[ 0.01655106  0.04033948  0.02732316  0.03014194]\n",
      "[ 0.01562432  0.03813357  0.02774653  0.03144433]\n",
      "[ 0.00584926  0.03438601  0.00791377  0.02517718]\n",
      "[ 0.01087268  0.03862328  0.01468015  0.025024  ]\n",
      "[ 0.01572457  0.05546172  0.02504889  0.02997695]\n",
      "[ 0.01838076  0.05721332  0.01846646  0.03419038]\n",
      "[ 0.03387978  0.04076637  0.02887242  0.03430976]\n",
      "[ 0.0366633   0.04892615  0.03972289  0.0413995 ]\n",
      "[ 0.04430539  0.0509581   0.03416502  0.05224132]\n",
      "[ 0.04803147  0.05005156  0.03313603  0.05841634]\n",
      "[ 0.05955742  0.04690711  0.03912021  0.06584492]\n",
      "[ 0.07316566  0.04653805  0.05613993  0.08699013]\n",
      "[ 0.04856664  0.04145031  0.04039193  0.06848292]\n",
      "[ 0.01510325  0.01717439  0.00383605  0.03663331]\n",
      "[ 0.0107961   0.00447515  0.00328587  0.03298954]\n",
      "[ 0.02844341  0.00245761  0.01659356  0.04339253]\n",
      "[ 0.02547276  0.0215258   0.01889069  0.04755515]\n",
      "[ 0.03403874  0.03113793  0.02915031  0.04930006]\n",
      "[ 0.02255537  0.0141839   0.03658758  0.03252967]\n",
      "[ 0.06402784  0.05783052  0.04699172  0.07841481]\n",
      "[ 0.05612152  0.04762911  0.05673956  0.07690617]\n",
      "[ 0.06589119  0.05295293  0.05145209  0.0904614 ]\n",
      "[ 0.06296283  0.0503617   0.06811018  0.085969  ]\n",
      "[ 0.06457574  0.0476616   0.06073934  0.08005034]\n",
      "[ 0.06112006  0.0634627   0.02543855  0.07278282]\n",
      "[ 0.05940872  0.05334241  0.02758696  0.06194288]\n",
      "[ 0.04796603  0.03684293  0.02395724  0.06432261]\n",
      "[ 0.04895357  0.01849683  0.01392693  0.05044199]\n",
      "[ 0.03270102  0.02623967  0.01817829  0.04526312]\n",
      "[ 0.03274365  0.02141044  0.02173243  0.04580445]\n",
      "[ 0.03498423  0.02166002  0.01608498  0.0412569 ]\n",
      "[ 0.03835148  0.03832247  0.03201994  0.05440206]\n",
      "[ 0.02367162  0.03502901  0.01904972  0.03911127]\n",
      "[ 0.00578155  0.02438051 -0.00364101  0.03334008]\n",
      "[ 0.01666407  0.0277203   0.0096061   0.04612555]\n",
      "[ 0.02367614  0.02200748  0.01892184  0.06479011]\n",
      "[ 0.02436511  0.00805979  0.02004887  0.05069312]\n",
      "[ 0.02833633  0.04330358  0.02933745  0.04205683]\n",
      "[ 0.04316286  0.06669917  0.06235642  0.04279947]\n",
      "[ 0.0310948   0.07747509  0.0541505   0.04033018]\n",
      "[ 0.03070682  0.06882986  0.04748619  0.04457054]\n",
      "[ 0.03979357  0.07325532  0.04632451  0.05359995]\n",
      "[ 0.05736501  0.07184482  0.05585576  0.05333691]\n",
      "[ 0.06679799  0.07589548  0.05247505  0.05226917]\n",
      "[ 0.03746288  0.04212837  0.00976462  0.05389125]\n",
      "[ 0.0393613   0.04645565  0.01071023  0.05682109]\n",
      "[ 0.03349469  0.04357232  0.01038934  0.05229205]\n",
      "[ 0.03937338  0.04442539  0.01328867  0.05888325]\n",
      "[ 0.02407963  0.02145615  0.00974176  0.04251188]\n",
      "[ 0.00085335  0.01184554 -0.00375683  0.03111264]\n",
      "[-0.00588964  0.01250871 -0.00261496  0.02857878]\n",
      "[ 0.00109808  0.02078637  0.01148048  0.02733933]\n",
      "[ 0.0110401   0.02463304  0.01452206  0.03592411]\n",
      "[ 0.0267793   0.0406988   0.0367756   0.04600071]\n",
      "[ 0.03102745  0.0225486   0.00262311  0.04043889]\n",
      "[ 0.02751846  0.03866784  0.01166543  0.03747852]\n",
      "[ 0.03336238  0.0567445   0.02214142  0.04367379]\n",
      "[ 0.02700933  0.05562022  0.02345284  0.04533507]\n",
      "[ 0.02478129  0.04733136  0.01297063  0.03302264]\n",
      "[ 0.02874134  0.0405146   0.00337097  0.02537671]\n",
      "[ 0.03519943  0.05752127  0.03050957  0.04181615]\n",
      "[ 0.04013035  0.06013223  0.03263532  0.04162997]\n",
      "[ 0.03094816  0.05358709  0.02738033  0.04110441]\n",
      "[ 0.04429469  0.05205289  0.03362752  0.04437099]\n",
      "[ 0.05994379  0.05916535  0.02704054  0.05922818]\n",
      "[ 0.06821201  0.09285787  0.05195332  0.07707601]\n",
      "[ 0.06245353  0.08950482  0.05527402  0.07456198]\n",
      "[ 0.06984111  0.09110854  0.06325733  0.07726968]\n",
      "[ 0.03326976  0.04065541  0.03455406  0.04149932]\n",
      "[ 0.05208048  0.08436385  0.05639682  0.07575133]\n",
      "[ 0.05284455  0.06279776  0.03812722  0.0624637 ]\n",
      "[ 0.04475132  0.05974999  0.02885869  0.05844812]\n",
      "[ 0.05170587  0.06191524  0.03875872  0.06154491]\n",
      "[ 0.05480057  0.06561279  0.04312023  0.05650699]\n",
      "[ 0.06289096  0.06413464  0.04904896  0.05554383]\n",
      "[ 0.00632474 -0.00896501 -0.01683229  0.01886914]\n",
      "[ 0.01249402 -0.01040108 -0.00818862  0.02190252]\n",
      "[-0.01407354 -0.01068903 -0.00092791  0.00419271]\n",
      "[-0.01531009 -0.01305276 -0.0087272   0.00233753]\n",
      "[-0.0157148  -0.01917426 -0.0268663   0.00232092]\n",
      "[ -9.54846479e-03  -1.18580632e-04  -4.62693255e-03   4.78571710e-05]\n",
      "[-0.00162068  0.01204091 -0.00228209  0.01244998]\n",
      "[ 0.01448403  0.04284371  0.02419727  0.0326744 ]\n",
      "[ 0.01779986  0.04790353  0.02785573  0.03158102]\n",
      "[ 0.01996737  0.04885032  0.02884783  0.030211  ]\n",
      "[ 0.02566024  0.04988896  0.03854987  0.03655638]\n",
      "[ 0.04311999  0.04876     0.04415099  0.03815627]\n",
      "[ 0.05818357  0.05988571  0.04923916  0.05268089]\n",
      "[ 0.0169078   0.02912988  0.01636769  0.01950164]\n",
      "[ 0.01954438  0.02989924  0.02673587  0.02281559]\n",
      "[ 0.02090201  0.03525441  0.02755006  0.02902924]\n",
      "[ 0.0279381   0.04097022  0.03405067  0.03375187]\n",
      "[ 0.03732276  0.05538669  0.04085464  0.04215304]\n",
      "[ 0.02567954  0.04283711  0.032834    0.0331637 ]\n",
      "[ 0.01373878  0.03603423  0.02069875  0.02559633]\n",
      "[ 0.02047989  0.03675406  0.02307252  0.03054436]\n",
      "[ 0.01706393  0.02857833  0.00372396  0.02206042]\n",
      "[ 0.02750488  0.02320237  0.00598643  0.02836853]\n",
      "[ 0.02359753  0.01778531  0.00107161  0.02775387]\n",
      "[ 0.01890388  0.01505413 -0.00873032  0.01431976]\n",
      "[ 0.01658756  0.01000111  0.00164827  0.00540688]\n",
      "[ 0.02622066  0.01201607  0.001491    0.00807478]\n",
      "[ 0.02717704  0.01796102  0.01079425  0.02311356]\n",
      "[ 0.03215424  0.02554276  0.02275696  0.02865007]\n",
      "[ 0.02654511  0.02594825  0.0241518   0.03581025]\n",
      "[ 0.03476243  0.04466827  0.03374784  0.04465541]\n",
      "[ 0.03622787  0.04914594  0.03987687  0.04358594]\n",
      "[ 0.03530448  0.05391654  0.02815187  0.0460338 ]\n",
      "[ 0.01025265  0.04288838  0.02736191  0.03581367]\n",
      "[ 0.00641051  0.02741489  0.01695375  0.01963316]\n",
      "[ 0.01399678  0.02440533  0.01395587  0.02044352]\n",
      "[ 0.00736053  0.01855271  0.00276416  0.02201425]\n",
      "[ 0.00934043  0.02148524  0.00695385  0.01663804]\n",
      "[ 0.00622042  0.02035944  0.00664196  0.01494017]\n",
      "[ 0.00367542  0.02016253  0.00564571  0.0124989 ]\n",
      "[-0.0008594   0.01344741  0.00579509  0.00548393]\n",
      "[-0.00758852  0.00567067  0.01342431  0.00656058]\n",
      "[-0.00259423  0.00163022  0.0137783   0.00675866]\n",
      "[ 0.00740581  0.01920944  0.0366989   0.02556443]\n",
      "[ 0.0121358   0.02687469  0.04417684  0.01982915]\n",
      "[ 0.0278791   0.0386112   0.04634787  0.0239388 ]\n",
      "[ 0.02368692  0.03336353  0.05081545  0.02354965]\n",
      "[ 0.0279772   0.03953878  0.0511249   0.03635722]\n",
      "[ 0.04354815  0.04841061  0.03803073  0.04364914]\n",
      "[ 0.05491403  0.06020277  0.03963963  0.06010088]\n",
      "[ 0.05757635  0.05528001  0.03909058  0.0583817 ]\n",
      "[ 0.06408241  0.04889983  0.028825    0.07111543]\n",
      "[ 0.06623426  0.05737156  0.02122877  0.06704554]\n",
      "[ 0.04650519  0.03628434  0.00747824  0.0529803 ]\n",
      "[ 0.0526984   0.04207644  0.02059165  0.06171336]\n",
      "[ 0.01787174  0.02378758  0.01873438  0.05289937]\n",
      "[ 0.01601407  0.00861995  0.03099111  0.05565671]\n",
      "[ 0.02949605  0.01791157  0.02874257  0.06370042]\n",
      "[ 0.02511862  0.0169151   0.02750749  0.04705934]\n",
      "[ 0.0206322   0.00603113  0.01944579  0.05610554]\n",
      "[ 0.06944314  0.05668283  0.05135461  0.07419578]\n",
      "[ 0.0101274   0.03126548  0.00151457  0.02867571]\n",
      "[ 0.07968023  0.06838623  0.05531349  0.09806886]\n",
      "[ 0.0784643   0.07003273  0.05521943  0.09444892]\n",
      "[ 0.07051498  0.05904691  0.04042197  0.08904308]\n",
      "[ 0.07019313  0.04305656  0.03004678  0.08023813]\n",
      "[ 0.05141593  0.05055803  0.03396215  0.07181964]\n",
      "[ 0.04833166  0.04576308  0.03610076  0.07139052]\n",
      "[ 0.05454865  0.04135445  0.03580667  0.06528196]\n",
      "[ 0.04423732  0.03542924  0.02649485  0.05278478]\n",
      "[ 0.00364126  0.04006844  0.02955495  0.02915795]\n",
      "[-0.00696882  0.03876334  0.0220699   0.02729618]\n",
      "[ 0.00741157  0.04434854  0.03087592  0.03830788]\n",
      "[ 0.01368876  0.04840489  0.03106685  0.03974028]\n",
      "[ 0.02117053  0.06509237  0.02676694  0.04331272]\n",
      "[ 0.02516292  0.04810472  0.03480316  0.04206648]\n",
      "[ 0.02090779  0.04085162  0.03533787  0.03314143]\n",
      "[ 0.02185844  0.03651102  0.02171134  0.03358833]\n",
      "[ 0.02585868  0.04533933  0.03476839  0.03702203]\n"
     ]
    },
    {
     "data": {
      "image/png": "[encoded data removed]",
      "text/plain": [
       "<matplotlib.figure.Figure at 0x15740f1d0>"
      ]
     },
     "metadata": {},
     "output_type": "display_data"
    }
   ],
   "source": [
    "# get an idea of distribution of rewards\n",
    "\n",
    "rs = []\n",
    "\n",
    "for i in range(30):\n",
    "    env.reset()\n",
    "    end = False\n",
    "    total_r = 0\n",
    "    for j in range(50): # j steps\n",
    "        r, s, end = env.step_model(model)\n",
    "        total_r += r\n",
    "        if end:\n",
    "            break\n",
    "        \n",
    "    rs.append(total_r)\n",
    "        \n",
    "fig = plt.hist(rs)"
   ]
  },
  {
   "cell_type": "code",
   "execution_count": 31,
   "metadata": {
    "collapsed": false
   },
   "outputs": [
    {
     "data": {
      "image/png": "[encoded data removed]",
      "text/plain": [
       "<matplotlib.figure.Figure at 0x12db9fb70>"
      ]
     },
     "metadata": {},
     "output_type": "display_data"
    }
   ],
   "source": [
    "# get an idea of model predictions for random states\n",
    "\n",
    "vs = []\n",
    "for i in range(1000):\n",
    "    random_session = history[randint(len(history))]\n",
    "    ri = randint(0, len(random_session)-TIME_STEPS-1)\n",
    "    \n",
    "    sars = [random_session[ri + t] for t in range(TIME_STEPS)]\n",
    "    states = [sar[0] for sar in sars]\n",
    "    state = env.stack(states)\n",
    "\n",
    "    v = model.predict(state)\n",
    "    vs.append(v)\n",
    "        \n",
    "fig = plt.hist(np.array(vs)[:,0])"
   ]
  },
  {
   "cell_type": "code",
   "execution_count": null,
   "metadata": {
    "collapsed": true
   },
   "outputs": [],
   "source": []
  },
  {
   "cell_type": "code",
   "execution_count": 32,
   "metadata": {
    "collapsed": false
   },
   "outputs": [
    {
     "name": "stdout",
     "output_type": "stream",
     "text": [
      "[ 0.03223626  0.04226585  0.03227903  0.0278648 ]\n"
     ]
    }
   ],
   "source": [
    "# visualize pyglet\n",
    "\n",
    "bw, bh = 10, 10\n",
    "win_width, win_height = bw*env.c, bh*env.r\n",
    "\n",
    "# create window and run display it\n",
    "win = Window(width=win_width, height=win_height)\n",
    "\n",
    "def on_mouse_press(x, y, button, modifiers):\n",
    "    env.reset()\n",
    "    \n",
    "win.push_handlers(on_mouse_press)\n",
    "\n",
    "def draw_rect(x, y, w, h, color):\n",
    "    pyglet.graphics.draw(6, gl.GL_TRIANGLES,\n",
    "                    ('v2f', [x, y, \n",
    "                             x+w, y,\n",
    "                             x+w, y+h, \n",
    "                             x, y, \n",
    "                             x, y+h, \n",
    "                             x+w, y+h]),\n",
    "                    ('c4f', color * 6))\n",
    "\n",
    "if 'loop' in globals():\n",
    "    pyglet.clock.unschedule(loop)\n",
    "\n",
    "def loop(e):\n",
    "    global env, model\n",
    "    \n",
    "    r, s, e = env.step_model(model)\n",
    "    \n",
    "    if r == 1:\n",
    "        sine_hi.seek(0)\n",
    "        sine_hi.play()\n",
    "    elif e:\n",
    "        sine_lo.seek(0)\n",
    "        sine_lo.play()\n",
    "        \n",
    "    clear_output(wait=True)\n",
    "\n",
    "def on_draw():\n",
    "    global env\n",
    "    \n",
    "    win.clear()\n",
    "    \n",
    "    screen = env.render(env.state)\n",
    "    for index, x in np.ndenumerate(screen):\n",
    "        if x != 0:\n",
    "            # draw a rect\n",
    "            c = [1,1,1,1]\n",
    "\n",
    "            draw_rect(index[0]*bw, index[1]*bh, bw, bh, c)\n",
    "\n",
    "env.reset()            \n",
    "win.on_draw = on_draw\n",
    "pyglet.clock.schedule(loop)\n",
    "pyglet.app.run()\n",
    "win.close()"
   ]
  },
  {
   "cell_type": "code",
   "execution_count": null,
   "metadata": {
    "collapsed": true,
    "scrolled": true
   },
   "outputs": [],
   "source": [
    "# visualize matplotlib\n",
    "\n",
    "env.reset()\n",
    "for i in range(100):\n",
    "    env.step_model(model)\n",
    "    screen = env.render(env.state)\n",
    "    \n",
    "    clear_output(wait=True)\n",
    "    fig = plt.imshow(screen, interpolation='nearest', cmap=plt.cm.gray)\n",
    "    plt.show()"
   ]
  },
  {
   "cell_type": "code",
   "execution_count": null,
   "metadata": {
    "collapsed": true
   },
   "outputs": [],
   "source": []
  }
 ],
 "metadata": {
  "kernelspec": {
   "display_name": "Python 3",
   "language": "python",
   "name": "python3"
  },
  "language_info": {
   "codemirror_mode": {
    "name": "ipython",
    "version": 3
   },
   "file_extension": ".py",
   "mimetype": "text/x-python",
   "name": "python",
   "nbconvert_exporter": "python",
   "pygments_lexer": "ipython3",
   "version": "3.4.5"
  },
  "widgets": {
   "state": {},
   "version": "1.1.2"
  }
 },
 "nbformat": 4,
 "nbformat_minor": 1
}
